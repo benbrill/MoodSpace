{
  "nbformat": 4,
  "nbformat_minor": 0,
  "metadata": {
    "colab": {
      "name": "tfLyricClassifcation.ipynb",
      "provenance": [],
      "authorship_tag": "ABX9TyO4n0KZpbZINvFVaDbqU/Dq"
    },
    "kernelspec": {
      "name": "python3",
      "display_name": "Python 3"
    },
    "language_info": {
      "name": "python"
    },
    "accelerator": "GPU"
  },
  "cells": [
    {
      "cell_type": "code",
      "metadata": {
        "id": "7Gimym_e08Xr"
      },
      "source": [
        "import numpy as np\n",
        "import pandas as pd\n",
        "import tensorflow as tf\n",
        "import re\n",
        "import string\n",
        "\n",
        "from tensorflow.keras import layers\n",
        "from tensorflow.keras import losses\n",
        "\n",
        "# requires update to tensorflow 2.4\n",
        "# >>> conda activate PIC16B\n",
        "# >>> pip install tensorflow==2.4\n",
        "from tensorflow.keras.layers.experimental.preprocessing import TextVectorization\n",
        "from tensorflow.keras.layers.experimental.preprocessing import StringLookup\n",
        "\n",
        "from sklearn.model_selection import train_test_split\n",
        "from sklearn.preprocessing import LabelEncoder"
      ],
      "execution_count": 1,
      "outputs": []
    },
    {
      "cell_type": "code",
      "metadata": {
        "colab": {
          "base_uri": "https://localhost:8080/",
          "height": 1000
        },
        "id": "xjv0ShaR1GO1",
        "outputId": "c8471504-b3ab-47c0-bd90-77a9502eb244"
      },
      "source": [
        "df = pd.read_csv(\"https://raw.githubusercontent.com/benbrill/MoodSpace/main/trainingSongs_clean.csv\")\n",
        "df"
      ],
      "execution_count": 2,
      "outputs": [
        {
          "output_type": "execute_result",
          "data": {
            "text/html": [
              "<div>\n",
              "<style scoped>\n",
              "    .dataframe tbody tr th:only-of-type {\n",
              "        vertical-align: middle;\n",
              "    }\n",
              "\n",
              "    .dataframe tbody tr th {\n",
              "        vertical-align: top;\n",
              "    }\n",
              "\n",
              "    .dataframe thead th {\n",
              "        text-align: right;\n",
              "    }\n",
              "</style>\n",
              "<table border=\"1\" class=\"dataframe\">\n",
              "  <thead>\n",
              "    <tr style=\"text-align: right;\">\n",
              "      <th></th>\n",
              "      <th>Unnamed: 0</th>\n",
              "      <th>trackName</th>\n",
              "      <th>artist</th>\n",
              "      <th>id</th>\n",
              "      <th>danceability</th>\n",
              "      <th>energy</th>\n",
              "      <th>key</th>\n",
              "      <th>loudness</th>\n",
              "      <th>mode</th>\n",
              "      <th>speechiness</th>\n",
              "      <th>acousticness</th>\n",
              "      <th>instrumentalness</th>\n",
              "      <th>liveness</th>\n",
              "      <th>valence</th>\n",
              "      <th>tempo</th>\n",
              "      <th>type</th>\n",
              "      <th>lyrics</th>\n",
              "      <th>cluster</th>\n",
              "      <th>language</th>\n",
              "    </tr>\n",
              "  </thead>\n",
              "  <tbody>\n",
              "    <tr>\n",
              "      <th>0</th>\n",
              "      <td>3</td>\n",
              "      <td>Overthinker</td>\n",
              "      <td>INZO</td>\n",
              "      <td>4K9xid96G3YmIvQZXN9SXg</td>\n",
              "      <td>0.472</td>\n",
              "      <td>0.605</td>\n",
              "      <td>8.0</td>\n",
              "      <td>-4.437</td>\n",
              "      <td>1.0</td>\n",
              "      <td>0.1340</td>\n",
              "      <td>0.03110</td>\n",
              "      <td>0.030800</td>\n",
              "      <td>0.1010</td>\n",
              "      <td>0.212</td>\n",
              "      <td>128.375</td>\n",
              "      <td>audio_features</td>\n",
              "      <td>a person who thinks all the time has nothing t...</td>\n",
              "      <td>0</td>\n",
              "      <td>en</td>\n",
              "    </tr>\n",
              "    <tr>\n",
              "      <th>1</th>\n",
              "      <td>4</td>\n",
              "      <td>Lifestyles of the Rich &amp; Famous</td>\n",
              "      <td>Good Charlotte</td>\n",
              "      <td>2g2a5kDeZexbUTD8abcvm6</td>\n",
              "      <td>0.620</td>\n",
              "      <td>0.930</td>\n",
              "      <td>1.0</td>\n",
              "      <td>-3.685</td>\n",
              "      <td>1.0</td>\n",
              "      <td>0.0374</td>\n",
              "      <td>0.00043</td>\n",
              "      <td>0.000000</td>\n",
              "      <td>0.0686</td>\n",
              "      <td>0.609</td>\n",
              "      <td>106.220</td>\n",
              "      <td>audio_features</td>\n",
              "      <td>always see it on t v or read in the magazines ...</td>\n",
              "      <td>3</td>\n",
              "      <td>en</td>\n",
              "    </tr>\n",
              "    <tr>\n",
              "      <th>2</th>\n",
              "      <td>6</td>\n",
              "      <td>Carrying Your Love With Me</td>\n",
              "      <td>George Strait</td>\n",
              "      <td>7puxIVNdj5nsBJk43zM3bH</td>\n",
              "      <td>0.629</td>\n",
              "      <td>0.479</td>\n",
              "      <td>10.0</td>\n",
              "      <td>-10.608</td>\n",
              "      <td>1.0</td>\n",
              "      <td>0.0271</td>\n",
              "      <td>0.22000</td>\n",
              "      <td>0.000000</td>\n",
              "      <td>0.0587</td>\n",
              "      <td>0.345</td>\n",
              "      <td>138.231</td>\n",
              "      <td>audio_features</td>\n",
              "      <td>baby all i got is this beat up leather bag and...</td>\n",
              "      <td>5</td>\n",
              "      <td>en</td>\n",
              "    </tr>\n",
              "    <tr>\n",
              "      <th>3</th>\n",
              "      <td>7</td>\n",
              "      <td>Check Yes, Juliet</td>\n",
              "      <td>We The Kings</td>\n",
              "      <td>0wVluBsVAVzBKrqspuCcwR</td>\n",
              "      <td>0.352</td>\n",
              "      <td>0.912</td>\n",
              "      <td>7.0</td>\n",
              "      <td>-4.253</td>\n",
              "      <td>1.0</td>\n",
              "      <td>0.0725</td>\n",
              "      <td>0.00197</td>\n",
              "      <td>0.000000</td>\n",
              "      <td>0.1930</td>\n",
              "      <td>0.351</td>\n",
              "      <td>166.795</td>\n",
              "      <td>audio_features</td>\n",
              "      <td>check yes juliet are you with me rain is falli...</td>\n",
              "      <td>2</td>\n",
              "      <td>en</td>\n",
              "    </tr>\n",
              "    <tr>\n",
              "      <th>4</th>\n",
              "      <td>8</td>\n",
              "      <td>At My Worst (feat. Kehlani)</td>\n",
              "      <td>Pink Sweat$</td>\n",
              "      <td>58w68w4s8h9gw3xrDaXyuj</td>\n",
              "      <td>0.731</td>\n",
              "      <td>0.484</td>\n",
              "      <td>0.0</td>\n",
              "      <td>-5.579</td>\n",
              "      <td>1.0</td>\n",
              "      <td>0.0354</td>\n",
              "      <td>0.73000</td>\n",
              "      <td>0.000003</td>\n",
              "      <td>0.3260</td>\n",
              "      <td>0.350</td>\n",
              "      <td>92.043</td>\n",
              "      <td>audio_features</td>\n",
              "      <td>can i call you baby can you be my friend can y...</td>\n",
              "      <td>1</td>\n",
              "      <td>en</td>\n",
              "    </tr>\n",
              "    <tr>\n",
              "      <th>...</th>\n",
              "      <td>...</td>\n",
              "      <td>...</td>\n",
              "      <td>...</td>\n",
              "      <td>...</td>\n",
              "      <td>...</td>\n",
              "      <td>...</td>\n",
              "      <td>...</td>\n",
              "      <td>...</td>\n",
              "      <td>...</td>\n",
              "      <td>...</td>\n",
              "      <td>...</td>\n",
              "      <td>...</td>\n",
              "      <td>...</td>\n",
              "      <td>...</td>\n",
              "      <td>...</td>\n",
              "      <td>...</td>\n",
              "      <td>...</td>\n",
              "      <td>...</td>\n",
              "      <td>...</td>\n",
              "    </tr>\n",
              "    <tr>\n",
              "      <th>712</th>\n",
              "      <td>994</td>\n",
              "      <td>90mh</td>\n",
              "      <td>Trefuego</td>\n",
              "      <td>1VxvGm1moDJ3svQlwjdBwA</td>\n",
              "      <td>0.716</td>\n",
              "      <td>0.427</td>\n",
              "      <td>1.0</td>\n",
              "      <td>-8.993</td>\n",
              "      <td>1.0</td>\n",
              "      <td>0.0529</td>\n",
              "      <td>0.18700</td>\n",
              "      <td>0.000000</td>\n",
              "      <td>0.3540</td>\n",
              "      <td>0.223</td>\n",
              "      <td>108.993</td>\n",
              "      <td>audio_features</td>\n",
              "      <td>hi kevin ayy yeah ayy ayy you dont really want...</td>\n",
              "      <td>3</td>\n",
              "      <td>en</td>\n",
              "    </tr>\n",
              "    <tr>\n",
              "      <th>713</th>\n",
              "      <td>995</td>\n",
              "      <td>9 Bridge</td>\n",
              "      <td>Rowdy Rebel</td>\n",
              "      <td>2sHekv6OdEiO4htSjdB9j4</td>\n",
              "      <td>0.642</td>\n",
              "      <td>0.589</td>\n",
              "      <td>5.0</td>\n",
              "      <td>-7.392</td>\n",
              "      <td>0.0</td>\n",
              "      <td>0.3020</td>\n",
              "      <td>0.12400</td>\n",
              "      <td>0.000000</td>\n",
              "      <td>0.0868</td>\n",
              "      <td>0.720</td>\n",
              "      <td>95.543</td>\n",
              "      <td>audio_features</td>\n",
              "      <td>i know i dont never make promises this time i ...</td>\n",
              "      <td>1</td>\n",
              "      <td>en</td>\n",
              "    </tr>\n",
              "    <tr>\n",
              "      <th>714</th>\n",
              "      <td>996</td>\n",
              "      <td>Lotus Flower Bomb (feat. Miguel)</td>\n",
              "      <td>Wale</td>\n",
              "      <td>3MAgQuClHcAV8E9CbeBS6f</td>\n",
              "      <td>0.512</td>\n",
              "      <td>0.598</td>\n",
              "      <td>9.0</td>\n",
              "      <td>-4.959</td>\n",
              "      <td>0.0</td>\n",
              "      <td>0.1150</td>\n",
              "      <td>0.61100</td>\n",
              "      <td>0.000000</td>\n",
              "      <td>0.0881</td>\n",
              "      <td>0.345</td>\n",
              "      <td>70.189</td>\n",
              "      <td>audio_features</td>\n",
              "      <td>ima rap to you real quick i wanna enjoy the lu...</td>\n",
              "      <td>4</td>\n",
              "      <td>en</td>\n",
              "    </tr>\n",
              "    <tr>\n",
              "      <th>715</th>\n",
              "      <td>997</td>\n",
              "      <td>Envy Me</td>\n",
              "      <td>Calboy</td>\n",
              "      <td>7rvyVWja33WG9R97oeJAjx</td>\n",
              "      <td>0.740</td>\n",
              "      <td>0.488</td>\n",
              "      <td>1.0</td>\n",
              "      <td>-7.664</td>\n",
              "      <td>0.0</td>\n",
              "      <td>0.2700</td>\n",
              "      <td>0.23400</td>\n",
              "      <td>0.000000</td>\n",
              "      <td>0.2410</td>\n",
              "      <td>0.584</td>\n",
              "      <td>149.042</td>\n",
              "      <td>audio_features</td>\n",
              "      <td>now i lay me down to sleep now i lay me down t...</td>\n",
              "      <td>5</td>\n",
              "      <td>en</td>\n",
              "    </tr>\n",
              "    <tr>\n",
              "      <th>716</th>\n",
              "      <td>998</td>\n",
              "      <td>Bitch Better Have My Money</td>\n",
              "      <td>Rihanna</td>\n",
              "      <td>0NTMtAO2BV4tnGvw9EgBVq</td>\n",
              "      <td>0.781</td>\n",
              "      <td>0.728</td>\n",
              "      <td>1.0</td>\n",
              "      <td>-4.981</td>\n",
              "      <td>1.0</td>\n",
              "      <td>0.0621</td>\n",
              "      <td>0.05090</td>\n",
              "      <td>0.000002</td>\n",
              "      <td>0.2570</td>\n",
              "      <td>0.395</td>\n",
              "      <td>102.990</td>\n",
              "      <td>audio_features</td>\n",
              "      <td>yayo yayo mula la yayo bitch better have my mo...</td>\n",
              "      <td>1</td>\n",
              "      <td>en</td>\n",
              "    </tr>\n",
              "  </tbody>\n",
              "</table>\n",
              "<p>717 rows × 19 columns</p>\n",
              "</div>"
            ],
            "text/plain": [
              "     Unnamed: 0                         trackName  ... cluster language\n",
              "0             3                       Overthinker  ...       0       en\n",
              "1             4   Lifestyles of the Rich & Famous  ...       3       en\n",
              "2             6        Carrying Your Love With Me  ...       5       en\n",
              "3             7                 Check Yes, Juliet  ...       2       en\n",
              "4             8       At My Worst (feat. Kehlani)  ...       1       en\n",
              "..          ...                               ...  ...     ...      ...\n",
              "712         994                              90mh  ...       3       en\n",
              "713         995                          9 Bridge  ...       1       en\n",
              "714         996  Lotus Flower Bomb (feat. Miguel)  ...       4       en\n",
              "715         997                           Envy Me  ...       5       en\n",
              "716         998        Bitch Better Have My Money  ...       1       en\n",
              "\n",
              "[717 rows x 19 columns]"
            ]
          },
          "metadata": {
            "tags": []
          },
          "execution_count": 2
        }
      ]
    },
    {
      "cell_type": "code",
      "metadata": {
        "id": "oDTSMbEC2Szp"
      },
      "source": [
        "# only the top distinct words will be tracked\n",
        "max_tokens = 2000\n",
        "\n",
        "# each headline will be a vector of length 25\n",
        "sequence_length = 500\n",
        "\n",
        "vectorize_layer = TextVectorization(\n",
        "    max_tokens=max_tokens, # only consider this many words\n",
        "    output_mode='int',\n",
        "    output_sequence_length=sequence_length) "
      ],
      "execution_count": 3,
      "outputs": []
    },
    {
      "cell_type": "code",
      "metadata": {
        "id": "3W_PQpzv2W2E"
      },
      "source": [
        "data = tf.data.Dataset.from_tensor_slices((df[\"lyrics\"], df[\"cluster\"]))"
      ],
      "execution_count": 4,
      "outputs": []
    },
    {
      "cell_type": "code",
      "metadata": {
        "colab": {
          "base_uri": "https://localhost:8080/"
        },
        "id": "nbmJ12El3UdI",
        "outputId": "aaf33015-32d9-4051-800a-0dc7472d198e"
      },
      "source": [
        "data = data.shuffle(buffer_size = len(data))\n",
        "\n",
        "train_size = int(0.7*len(data))\n",
        "val_size   = int(0.1*len(data))\n",
        "\n",
        "train = data.take(train_size)\n",
        "val   = data.skip(train_size).take(val_size)\n",
        "test  = data.skip(train_size + val_size)\n",
        "len(train), len(val), len(test)"
      ],
      "execution_count": 5,
      "outputs": [
        {
          "output_type": "execute_result",
          "data": {
            "text/plain": [
              "(501, 71, 145)"
            ]
          },
          "metadata": {
            "tags": []
          },
          "execution_count": 5
        }
      ]
    },
    {
      "cell_type": "code",
      "metadata": {
        "id": "Xft9VRhW40BB"
      },
      "source": [
        "def vectorize_headline(text, label):\n",
        "    text = tf.expand_dims(text, -1)\n",
        "    return vectorize_layer(text), [label]\n",
        "\n",
        "train_vec = train.map(vectorize_headline)\n",
        "val_vec   = val.map(vectorize_headline)\n",
        "test_vec  = test.map(vectorize_headline)"
      ],
      "execution_count": 9,
      "outputs": []
    },
    {
      "cell_type": "code",
      "metadata": {
        "id": "6NTNTIBe4dST"
      },
      "source": [
        "model = tf.keras.Sequential([\n",
        "  layers.Embedding(max_tokens, output_dim = 3, name=\"embedding\"),\n",
        "  layers.Dropout(0.2),\n",
        "  layers.GlobalAveragePooling1D(),\n",
        "  layers.Dropout(0.2),\n",
        "  layers.Dense(8)]\n",
        ")"
      ],
      "execution_count": 6,
      "outputs": []
    },
    {
      "cell_type": "code",
      "metadata": {
        "id": "QBvK_cSd4iNS"
      },
      "source": [
        "model.compile(loss=losses.SparseCategoricalCrossentropy(from_logits=True),\n",
        "              optimizer='adam', \n",
        "              metrics=['accuracy'])"
      ],
      "execution_count": 7,
      "outputs": []
    },
    {
      "cell_type": "code",
      "metadata": {
        "colab": {
          "base_uri": "https://localhost:8080/"
        },
        "id": "EOvPCjkg4oD4",
        "outputId": "90aca939-e584-40bb-e647-84aab7ab9192"
      },
      "source": [
        "history = model.fit(train_vec, epochs = 100, validation_data = val_vec)"
      ],
      "execution_count": 12,
      "outputs": [
        {
          "output_type": "stream",
          "text": [
            "Epoch 1/50\n",
            "501/501 [==============================] - 1s 3ms/step - loss: 1.8731 - accuracy: 0.2455 - val_loss: 1.8028 - val_accuracy: 0.2394\n",
            "Epoch 2/50\n",
            "501/501 [==============================] - 1s 3ms/step - loss: 1.8616 - accuracy: 0.2515 - val_loss: 1.7851 - val_accuracy: 0.3239\n",
            "Epoch 3/50\n",
            "501/501 [==============================] - 1s 3ms/step - loss: 1.8372 - accuracy: 0.2794 - val_loss: 1.8630 - val_accuracy: 0.2394\n",
            "Epoch 4/50\n",
            "501/501 [==============================] - 1s 3ms/step - loss: 1.8464 - accuracy: 0.2475 - val_loss: 1.8881 - val_accuracy: 0.2817\n",
            "Epoch 5/50\n",
            "501/501 [==============================] - 1s 3ms/step - loss: 1.8540 - accuracy: 0.2555 - val_loss: 1.8053 - val_accuracy: 0.2958\n",
            "Epoch 6/50\n",
            "501/501 [==============================] - 1s 3ms/step - loss: 1.8562 - accuracy: 0.2475 - val_loss: 1.8210 - val_accuracy: 0.2254\n",
            "Epoch 7/50\n",
            "501/501 [==============================] - 1s 3ms/step - loss: 1.8434 - accuracy: 0.2655 - val_loss: 1.8416 - val_accuracy: 0.2958\n",
            "Epoch 8/50\n",
            "501/501 [==============================] - 1s 3ms/step - loss: 1.8578 - accuracy: 0.2575 - val_loss: 1.7880 - val_accuracy: 0.3239\n",
            "Epoch 9/50\n",
            "501/501 [==============================] - 1s 3ms/step - loss: 1.8639 - accuracy: 0.2754 - val_loss: 1.8166 - val_accuracy: 0.2676\n",
            "Epoch 10/50\n",
            "501/501 [==============================] - 1s 3ms/step - loss: 1.8663 - accuracy: 0.2315 - val_loss: 1.8091 - val_accuracy: 0.2958\n",
            "Epoch 11/50\n",
            "501/501 [==============================] - 1s 3ms/step - loss: 1.8702 - accuracy: 0.2275 - val_loss: 1.8324 - val_accuracy: 0.3099\n",
            "Epoch 12/50\n",
            "501/501 [==============================] - 1s 3ms/step - loss: 1.8703 - accuracy: 0.2435 - val_loss: 1.8093 - val_accuracy: 0.3380\n",
            "Epoch 13/50\n",
            "501/501 [==============================] - 1s 3ms/step - loss: 1.8306 - accuracy: 0.2555 - val_loss: 1.8353 - val_accuracy: 0.2394\n",
            "Epoch 14/50\n",
            "501/501 [==============================] - 1s 3ms/step - loss: 1.8545 - accuracy: 0.2735 - val_loss: 1.8698 - val_accuracy: 0.2254\n",
            "Epoch 15/50\n",
            "501/501 [==============================] - 1s 3ms/step - loss: 1.8523 - accuracy: 0.2535 - val_loss: 1.8606 - val_accuracy: 0.2817\n",
            "Epoch 16/50\n",
            "501/501 [==============================] - 1s 3ms/step - loss: 1.8535 - accuracy: 0.2595 - val_loss: 1.8321 - val_accuracy: 0.2676\n",
            "Epoch 17/50\n",
            "501/501 [==============================] - 1s 3ms/step - loss: 1.8618 - accuracy: 0.2415 - val_loss: 1.8426 - val_accuracy: 0.2958\n",
            "Epoch 18/50\n",
            "501/501 [==============================] - 1s 3ms/step - loss: 1.8406 - accuracy: 0.2854 - val_loss: 1.9399 - val_accuracy: 0.2254\n",
            "Epoch 19/50\n",
            "501/501 [==============================] - 1s 3ms/step - loss: 1.8743 - accuracy: 0.2455 - val_loss: 1.9035 - val_accuracy: 0.2535\n",
            "Epoch 20/50\n",
            "501/501 [==============================] - 2s 3ms/step - loss: 1.8526 - accuracy: 0.2635 - val_loss: 1.8550 - val_accuracy: 0.2394\n",
            "Epoch 21/50\n",
            "501/501 [==============================] - 1s 3ms/step - loss: 1.8525 - accuracy: 0.2335 - val_loss: 1.8343 - val_accuracy: 0.2535\n",
            "Epoch 22/50\n",
            "501/501 [==============================] - 1s 3ms/step - loss: 1.8491 - accuracy: 0.2595 - val_loss: 1.8328 - val_accuracy: 0.2817\n",
            "Epoch 23/50\n",
            "501/501 [==============================] - 1s 3ms/step - loss: 1.8508 - accuracy: 0.2655 - val_loss: 1.8461 - val_accuracy: 0.3099\n",
            "Epoch 24/50\n",
            "501/501 [==============================] - 1s 3ms/step - loss: 1.8608 - accuracy: 0.2555 - val_loss: 1.8562 - val_accuracy: 0.2394\n",
            "Epoch 25/50\n",
            "501/501 [==============================] - 1s 3ms/step - loss: 1.8629 - accuracy: 0.2495 - val_loss: 1.8580 - val_accuracy: 0.2535\n",
            "Epoch 26/50\n",
            "501/501 [==============================] - 1s 3ms/step - loss: 1.8698 - accuracy: 0.2295 - val_loss: 1.8271 - val_accuracy: 0.2254\n",
            "Epoch 27/50\n",
            "501/501 [==============================] - 1s 3ms/step - loss: 1.8385 - accuracy: 0.2735 - val_loss: 1.9351 - val_accuracy: 0.2113\n",
            "Epoch 28/50\n",
            "501/501 [==============================] - 1s 3ms/step - loss: 1.8592 - accuracy: 0.2675 - val_loss: 1.7974 - val_accuracy: 0.3380\n",
            "Epoch 29/50\n",
            "501/501 [==============================] - 1s 3ms/step - loss: 1.8550 - accuracy: 0.2535 - val_loss: 1.9058 - val_accuracy: 0.1972\n",
            "Epoch 30/50\n",
            "501/501 [==============================] - 1s 3ms/step - loss: 1.8368 - accuracy: 0.2794 - val_loss: 1.8433 - val_accuracy: 0.2817\n",
            "Epoch 31/50\n",
            "501/501 [==============================] - 1s 3ms/step - loss: 1.8545 - accuracy: 0.2455 - val_loss: 1.8396 - val_accuracy: 0.2676\n",
            "Epoch 32/50\n",
            "501/501 [==============================] - 1s 3ms/step - loss: 1.8537 - accuracy: 0.2695 - val_loss: 1.8436 - val_accuracy: 0.2676\n",
            "Epoch 33/50\n",
            "501/501 [==============================] - 1s 3ms/step - loss: 1.8589 - accuracy: 0.2375 - val_loss: 1.8338 - val_accuracy: 0.2394\n",
            "Epoch 34/50\n",
            "501/501 [==============================] - 1s 3ms/step - loss: 1.8634 - accuracy: 0.2575 - val_loss: 1.9529 - val_accuracy: 0.2394\n",
            "Epoch 35/50\n",
            "501/501 [==============================] - 1s 3ms/step - loss: 1.8540 - accuracy: 0.2435 - val_loss: 1.7895 - val_accuracy: 0.3099\n",
            "Epoch 36/50\n",
            "501/501 [==============================] - 1s 3ms/step - loss: 1.8601 - accuracy: 0.2435 - val_loss: 1.7954 - val_accuracy: 0.2676\n",
            "Epoch 37/50\n",
            "501/501 [==============================] - 1s 3ms/step - loss: 1.8712 - accuracy: 0.2475 - val_loss: 1.8577 - val_accuracy: 0.2817\n",
            "Epoch 38/50\n",
            "501/501 [==============================] - 1s 3ms/step - loss: 1.8515 - accuracy: 0.2655 - val_loss: 1.8610 - val_accuracy: 0.2535\n",
            "Epoch 39/50\n",
            "501/501 [==============================] - 1s 3ms/step - loss: 1.8428 - accuracy: 0.2715 - val_loss: 1.8515 - val_accuracy: 0.2958\n",
            "Epoch 40/50\n",
            "501/501 [==============================] - 1s 3ms/step - loss: 1.8755 - accuracy: 0.2435 - val_loss: 1.7763 - val_accuracy: 0.2676\n",
            "Epoch 41/50\n",
            "501/501 [==============================] - 1s 3ms/step - loss: 1.8507 - accuracy: 0.2615 - val_loss: 1.8528 - val_accuracy: 0.2817\n",
            "Epoch 42/50\n",
            "501/501 [==============================] - 1s 3ms/step - loss: 1.8402 - accuracy: 0.2754 - val_loss: 1.8609 - val_accuracy: 0.2113\n",
            "Epoch 43/50\n",
            "501/501 [==============================] - 1s 3ms/step - loss: 1.8434 - accuracy: 0.2495 - val_loss: 1.8156 - val_accuracy: 0.2535\n",
            "Epoch 44/50\n",
            "501/501 [==============================] - 1s 3ms/step - loss: 1.8657 - accuracy: 0.2535 - val_loss: 1.8408 - val_accuracy: 0.2394\n",
            "Epoch 45/50\n",
            "501/501 [==============================] - 1s 3ms/step - loss: 1.8491 - accuracy: 0.2675 - val_loss: 1.9399 - val_accuracy: 0.1972\n",
            "Epoch 46/50\n",
            "501/501 [==============================] - 2s 3ms/step - loss: 1.8578 - accuracy: 0.2475 - val_loss: 1.8247 - val_accuracy: 0.3099\n",
            "Epoch 47/50\n",
            "501/501 [==============================] - 1s 3ms/step - loss: 1.8659 - accuracy: 0.2355 - val_loss: 1.8752 - val_accuracy: 0.2113\n",
            "Epoch 48/50\n",
            "501/501 [==============================] - 1s 3ms/step - loss: 1.8673 - accuracy: 0.2595 - val_loss: 1.7979 - val_accuracy: 0.2817\n",
            "Epoch 49/50\n",
            "501/501 [==============================] - 1s 3ms/step - loss: 1.8433 - accuracy: 0.2575 - val_loss: 1.8108 - val_accuracy: 0.2817\n",
            "Epoch 50/50\n",
            "501/501 [==============================] - 1s 3ms/step - loss: 1.8606 - accuracy: 0.2435 - val_loss: 1.8767 - val_accuracy: 0.1831\n"
          ],
          "name": "stdout"
        }
      ]
    },
    {
      "cell_type": "code",
      "metadata": {
        "colab": {
          "base_uri": "https://localhost:8080/"
        },
        "id": "yb46vkB14utk",
        "outputId": "032e3899-bc5c-41c2-ffb5-78c0b81f1266"
      },
      "source": [
        "model.predict(test_vec)[1]"
      ],
      "execution_count": 19,
      "outputs": [
        {
          "output_type": "execute_result",
          "data": {
            "text/plain": [
              "array([ 0.301615  ,  0.61373496, -0.37419444, -0.2880766 ,  0.04941263,\n",
              "        0.26342294, -0.91452265, -4.326766  ], dtype=float32)"
            ]
          },
          "metadata": {
            "tags": []
          },
          "execution_count": 19
        }
      ]
    },
    {
      "cell_type": "code",
      "metadata": {
        "colab": {
          "base_uri": "https://localhost:8080/"
        },
        "id": "8sM7jNhw5ywH",
        "outputId": "a8677901-d3ba-4f04-e7b2-a549cc898cde"
      },
      "source": [
        "test_vec"
      ],
      "execution_count": 17,
      "outputs": [
        {
          "output_type": "execute_result",
          "data": {
            "text/plain": [
              "<MapDataset shapes: ((None, 500), (1,)), types: (tf.int64, tf.int64)>"
            ]
          },
          "metadata": {
            "tags": []
          },
          "execution_count": 17
        }
      ]
    },
    {
      "cell_type": "code",
      "metadata": {
        "id": "Avm5ias76SJO"
      },
      "source": [
        ""
      ],
      "execution_count": null,
      "outputs": []
    }
  ]
}