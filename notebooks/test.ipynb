{
 "metadata": {
  "language_info": {
   "codemirror_mode": {
    "name": "ipython",
    "version": 3
   },
   "file_extension": ".py",
   "mimetype": "text/x-python",
   "name": "python",
   "nbconvert_exporter": "python",
   "pygments_lexer": "ipython3",
   "version": "3.9.5"
  },
  "orig_nbformat": 2,
  "kernelspec": {
   "name": "python395jvsc74a57bd063a8339a2b998405504b80cac15dbfc0480b6c1c806e16474572f1b40b735ee0",
   "display_name": "Python 3.9.5 64-bit ('env': venv)"
  }
 },
 "nbformat": 4,
 "nbformat_minor": 2,
 "cells": [
  {
   "cell_type": "code",
   "execution_count": 4,
   "metadata": {},
   "outputs": [],
   "source": [
    "import pandas as pd\n",
    "import re\n",
    "\n",
    "# from sqlalchemy.dialects.postgresql import insert\n",
    "\n",
    "from langdetect import detect\n",
    "\n",
    "# from . import db, genius\n",
    "from __init__ import genius\n",
    "import classification_2\n",
    "# from .models import Songs"
   ]
  },
  {
   "cell_type": "code",
   "execution_count": 5,
   "metadata": {},
   "outputs": [],
   "source": [
    "from spotipy import SpotifyClientCredentials, util\n",
    "import os\n",
    "import spotipy\n",
    "manager = SpotifyClientCredentials(os.environ.get(\"SPOTIPY_CLIENT_ID\"),os.environ.get(\"SPOTIPY_CLIENT_SECRET\"))\n",
    "spotify = spotipy.Spotify(client_credentials_manager=manager)"
   ]
  },
  {
   "cell_type": "code",
   "execution_count": 20,
   "metadata": {},
   "outputs": [],
   "source": [
    "df = pd.read_csv(\"../test.csv\")"
   ]
  },
  {
   "cell_type": "code",
   "execution_count": 21,
   "metadata": {},
   "outputs": [],
   "source": [
    "weights = classification_2.main(df)\n",
    "\n",
    "# df['user_id'] = my_user_id\n",
    "df['weights'] = weights.tolist()\n",
    "df = df.drop(['lyrics'], axis=1)"
   ]
  },
  {
   "cell_type": "code",
   "execution_count": 22,
   "metadata": {},
   "outputs": [
    {
     "output_type": "execute_result",
     "data": {
      "text/plain": [
       "    Unnamed: 0                                         track_name  \\\n",
       "0            1                                           Suicidal   \n",
       "1            2                                     New Beginnings   \n",
       "2            3                    Eastside (with Halsey & Khalid)   \n",
       "3            4                                            7 rings   \n",
       "4            5                                What A Man Gotta Do   \n",
       "5            6      Sunflower - Spider-Man: Into the Spider-Verse   \n",
       "6            7               Here Comes The Sun - Remastered 2009   \n",
       "7            8                                         Super Bass   \n",
       "8            9                                        Ridin' Solo   \n",
       "9           10                                  Time of Our Lives   \n",
       "10          11                        Let It Be - Remastered 2009   \n",
       "11          12                                              Needs   \n",
       "12          13                           They Don't Know About Us   \n",
       "13          14  Give Me Everything (feat. Ne-Yo, Afrojack & Na...   \n",
       "14          15                                            My Type   \n",
       "15          16                                          Adore You   \n",
       "16          17                                            Envy Me   \n",
       "17          18                  Everybody Wants To Rule The World   \n",
       "18          19                  Are You Bored Yet? (feat. Clairo)   \n",
       "19          21                                      Still The One   \n",
       "20          22                              Body Like A Back Road   \n",
       "21          23                                         Palm Trees   \n",
       "22          24                                    Learning To Fly   \n",
       "23          26                                 Where The Light Is   \n",
       "24          27                                            Silence   \n",
       "25          28                                          Limelight   \n",
       "26          29                         What Lovers Do (feat. SZA)   \n",
       "27          30              Across The Universe - Remastered 2009   \n",
       "28          31                              Panini - DaBaby Remix   \n",
       "29          32                                        Tongue Tied   \n",
       "30          33                                        Upside Down   \n",
       "31          34                                             Animal   \n",
       "32          35          Wouldn't It Be Nice - Stereo / Remastered   \n",
       "33          37                      Rather Be (feat. Jess Glynne)   \n",
       "34          38                                             Sucker   \n",
       "35          40                                               SAD!   \n",
       "36          41                                           Paradise   \n",
       "37          42                                              VIBEZ   \n",
       "38          43                                         SICKO MODE   \n",
       "39          44                                                Uno   \n",
       "40          45                                              Rodeo   \n",
       "41          46                            Talk (feat. Disclosure)   \n",
       "42          47                                            Falling   \n",
       "43          49                                    End Of The Line   \n",
       "\n",
       "                            artists                 song_id language  \\\n",
       "0                         YNW Melly  1iSqfoUFnQwV0QW1EfUit8       en   \n",
       "1                            NEFFEX  1umyI924GDJ9cMAIQrJ0uS       en   \n",
       "2                      benny blanco  0d2iYfpKoM0QCKvcLCkBao       en   \n",
       "3                     Ariana Grande  14msK75pk3pA33pzPVNtBF       en   \n",
       "4                    Jonas Brothers  4wNIkl5XGiAACjFBlDWuSd       en   \n",
       "5                       Post Malone  3KkXRkHbMCARz0aVfEt68P       en   \n",
       "6                       The Beatles  6dGnYIeXmHdcikdzNNDMm2       en   \n",
       "7                       Nicki Minaj  0iYebKFUSfF72fUu2OW6ZT       en   \n",
       "8                      Jason Derulo  6BaxqcoEM9r3LXisTyJjST       en   \n",
       "9                           Pitbull  2bJvI42r8EF3wxjOuDav4r       en   \n",
       "10                      The Beatles  7iN1s7xHE4ifF5povM6A48       en   \n",
       "11                         Verzache  0WKmVAD4VWk5EdTyCFILi4       en   \n",
       "12                    One Direction  72C7aUQECOhNtnD0AC36ua       en   \n",
       "13                          Pitbull  4QNpBfC0zvjKqPJcyqBy9W       en   \n",
       "14                         Saweetie  5KBARWIxeMGkvUax9VtVC9       en   \n",
       "15                     Harry Styles  3jjujdWJ72nww5eGnfs2E7       en   \n",
       "16                           Calboy  05t7JMip6JrLuSrMV5yYjX       en   \n",
       "17                  Tears For Fears  4RvWPyQ5RL0ao9LPZeSouE       en   \n",
       "18                          Wallows  57RA3JGafJm5zRtKJiKPIm       en   \n",
       "19                    One Direction  1UAXlOxY1NXiJpP2sEK102       en   \n",
       "20                         Sam Hunt  7mldq42yDuxiUNn08nvzHO       en   \n",
       "21                         Surfaces  6QUmgPztuRncOTVo3k7CiJ       en   \n",
       "22  Tom Petty and the Heartbreakers  17S4XrLvF5jlGvGCJHgF51       en   \n",
       "23                         Surfaces  7JVqkghLS7npSCHqeHWzKW       en   \n",
       "24                       Marshmello  7vGuf3Y35N4wmASOKLUVVU       en   \n",
       "25                             Rush  0K6yUnIKNsFtfIpTgGtcHm       en   \n",
       "26                         Maroon 5  2j5hsQvApottzvTn4pFJWF       en   \n",
       "27                      The Beatles  4dkoqJrP0L8FXftrMZongF       en   \n",
       "28                        Lil Nas X  4SDgTLDYrJ2UrHbkRkg7MD       en   \n",
       "29                        Grouplove  0GO8y8jQk1PkHzS31d699N       en   \n",
       "30                     Jack Johnson  6shRGWCtBUOPFLFTTqXZIC       en   \n",
       "31                       Neon Trees  1fBl642IhJOE5U319Gy2Go       en   \n",
       "32                   The Beach Boys  2Gy7qnDwt8Z3MNxqat4CsK       en   \n",
       "33                     Clean Bandit  3s4U7OHV7gnj42VV72eSZ6       en   \n",
       "34                   Jonas Brothers  4y3OI86AEP6PQoDE6olYhO       en   \n",
       "35                     XXXTENTACION  3ee8Jmje8o58CHK66QrVC2       en   \n",
       "36                            Bazzi  0Rx0DJI556Ix5gBny6EWmn       en   \n",
       "37                           DaBaby  0fySG6A6qLE8IvDpayb5bM       en   \n",
       "38                     Travis Scott  2xLMifQCjDGFmkHkpNLD9h       en   \n",
       "39                          Ambjaay  3AEgic4yp82NxMWUjHtxnO       en   \n",
       "40                        Lil Nas X  4ak7xjvBeBOcJGWFDX9w5n       en   \n",
       "41                           Khalid  6TqXcAFInzjp0bODyvrWEq       en   \n",
       "42                    Trevor Daniel  4TnjEaWOeW0eKTKIEvJyCa       en   \n",
       "43               Traveling Wilburys  4HA2jo7wkMdN1lmLO6ryzE       en   \n",
       "\n",
       "                                              weights  \n",
       "0   [0.7929405570030212, 0.5531405806541443, 112.1...  \n",
       "1   [0.796259343624115, 0.5454947352409363, 104.28...  \n",
       "2   [0.7913309931755066, 0.5420040488243103, 103.1...  \n",
       "3   [0.7883176207542419, 0.5498868823051453, 106.2...  \n",
       "4   [0.7691314816474915, 0.5354081988334656, 96.05...  \n",
       "5   [0.7951471209526062, 0.5534660220146179, 108.9...  \n",
       "6   [0.7427708506584167, 0.5060083270072937, 97.18...  \n",
       "7   [0.8874949812889099, 0.5766801238059998, 142.4...  \n",
       "8   [0.728360116481781, 0.527718722820282, 93.4618...  \n",
       "9   [0.8550240397453308, 0.5678886771202087, 128.0...  \n",
       "10  [0.9182237982749939, 0.5840091109275818, 159.5...  \n",
       "11  [0.7710290551185608, 0.5357291102409363, 95.97...  \n",
       "12  [0.7815825343132019, 0.5435947775840759, 101.7...  \n",
       "13  [0.8940877318382263, 0.5833424925804138, 140.2...  \n",
       "14  [0.7949814200401306, 0.550581157207489, 108.86...  \n",
       "15  [0.8039147257804871, 0.5568854212760925, 115.6...  \n",
       "16  [0.7923392653465271, 0.5416359305381775, 102.3...  \n",
       "17  [0.7934431433677673, 0.5555073618888855, 113.9...  \n",
       "18  [0.7938355803489685, 0.5368911623954773, 111.2...  \n",
       "19  [0.7991661429405212, 0.5520686507225037, 109.7...  \n",
       "20  [0.7989863753318787, 0.5642396807670593, 125.7...  \n",
       "21  [0.8212887644767761, 0.5715479254722595, 135.2...  \n",
       "22  [0.834035336971283, 0.5538939833641052, 144.12...  \n",
       "23  [0.800045907497406, 0.5499903559684753, 124.32...  \n",
       "24  [0.8337375521659851, 0.5579671263694763, 144.2...  \n",
       "25  [0.8242670893669128, 0.5636712908744812, 128.5...  \n",
       "26  [0.8226637244224548, 0.5649582743644714, 135.1...  \n",
       "27  [0.8752085566520691, 0.6017345786094666, 132.2...  \n",
       "28  [0.7870821356773376, 0.5466360449790955, 102.6...  \n",
       "29  [0.7870509028434753, 0.5490612387657166, 105.5...  \n",
       "30  [0.7773763537406921, 0.5409566760063171, 99.44...  \n",
       "31  [0.8387309908866882, 0.5539173483848572, 146.6...  \n",
       "32  [0.7461680769920349, 0.5352837443351746, 93.66...  \n",
       "33  [0.7860023379325867, 0.5578457713127136, 117.7...  \n",
       "34  [0.7782666087150574, 0.5441951155662537, 102.7...  \n",
       "35  [0.801550567150116, 0.5474280714988708, 106.26...  \n",
       "36  [0.7963363528251648, 0.5505465865135193, 107.6...  \n",
       "37  [0.8773559927940369, 0.5748853087425232, 132.4...  \n",
       "38  [0.7124313712120056, 0.5231148600578308, 88.43...  \n",
       "39  [0.7826613783836365, 0.5403613448143005, 100.3...  \n",
       "40  [0.7891282439231873, 0.5517625212669373, 107.3...  \n",
       "41  [0.810703456401825, 0.5601450800895691, 114.18...  \n",
       "42  [0.7666870951652527, 0.5340268015861511, 94.65...  \n",
       "43  [0.8077101111412048, 0.5429834723472595, 114.4...  "
      ],
      "text/html": "<div>\n<style scoped>\n    .dataframe tbody tr th:only-of-type {\n        vertical-align: middle;\n    }\n\n    .dataframe tbody tr th {\n        vertical-align: top;\n    }\n\n    .dataframe thead th {\n        text-align: right;\n    }\n</style>\n<table border=\"1\" class=\"dataframe\">\n  <thead>\n    <tr style=\"text-align: right;\">\n      <th></th>\n      <th>Unnamed: 0</th>\n      <th>track_name</th>\n      <th>artists</th>\n      <th>song_id</th>\n      <th>language</th>\n      <th>weights</th>\n    </tr>\n  </thead>\n  <tbody>\n    <tr>\n      <th>0</th>\n      <td>1</td>\n      <td>Suicidal</td>\n      <td>YNW Melly</td>\n      <td>1iSqfoUFnQwV0QW1EfUit8</td>\n      <td>en</td>\n      <td>[0.7929405570030212, 0.5531405806541443, 112.1...</td>\n    </tr>\n    <tr>\n      <th>1</th>\n      <td>2</td>\n      <td>New Beginnings</td>\n      <td>NEFFEX</td>\n      <td>1umyI924GDJ9cMAIQrJ0uS</td>\n      <td>en</td>\n      <td>[0.796259343624115, 0.5454947352409363, 104.28...</td>\n    </tr>\n    <tr>\n      <th>2</th>\n      <td>3</td>\n      <td>Eastside (with Halsey &amp; Khalid)</td>\n      <td>benny blanco</td>\n      <td>0d2iYfpKoM0QCKvcLCkBao</td>\n      <td>en</td>\n      <td>[0.7913309931755066, 0.5420040488243103, 103.1...</td>\n    </tr>\n    <tr>\n      <th>3</th>\n      <td>4</td>\n      <td>7 rings</td>\n      <td>Ariana Grande</td>\n      <td>14msK75pk3pA33pzPVNtBF</td>\n      <td>en</td>\n      <td>[0.7883176207542419, 0.5498868823051453, 106.2...</td>\n    </tr>\n    <tr>\n      <th>4</th>\n      <td>5</td>\n      <td>What A Man Gotta Do</td>\n      <td>Jonas Brothers</td>\n      <td>4wNIkl5XGiAACjFBlDWuSd</td>\n      <td>en</td>\n      <td>[0.7691314816474915, 0.5354081988334656, 96.05...</td>\n    </tr>\n    <tr>\n      <th>5</th>\n      <td>6</td>\n      <td>Sunflower - Spider-Man: Into the Spider-Verse</td>\n      <td>Post Malone</td>\n      <td>3KkXRkHbMCARz0aVfEt68P</td>\n      <td>en</td>\n      <td>[0.7951471209526062, 0.5534660220146179, 108.9...</td>\n    </tr>\n    <tr>\n      <th>6</th>\n      <td>7</td>\n      <td>Here Comes The Sun - Remastered 2009</td>\n      <td>The Beatles</td>\n      <td>6dGnYIeXmHdcikdzNNDMm2</td>\n      <td>en</td>\n      <td>[0.7427708506584167, 0.5060083270072937, 97.18...</td>\n    </tr>\n    <tr>\n      <th>7</th>\n      <td>8</td>\n      <td>Super Bass</td>\n      <td>Nicki Minaj</td>\n      <td>0iYebKFUSfF72fUu2OW6ZT</td>\n      <td>en</td>\n      <td>[0.8874949812889099, 0.5766801238059998, 142.4...</td>\n    </tr>\n    <tr>\n      <th>8</th>\n      <td>9</td>\n      <td>Ridin' Solo</td>\n      <td>Jason Derulo</td>\n      <td>6BaxqcoEM9r3LXisTyJjST</td>\n      <td>en</td>\n      <td>[0.728360116481781, 0.527718722820282, 93.4618...</td>\n    </tr>\n    <tr>\n      <th>9</th>\n      <td>10</td>\n      <td>Time of Our Lives</td>\n      <td>Pitbull</td>\n      <td>2bJvI42r8EF3wxjOuDav4r</td>\n      <td>en</td>\n      <td>[0.8550240397453308, 0.5678886771202087, 128.0...</td>\n    </tr>\n    <tr>\n      <th>10</th>\n      <td>11</td>\n      <td>Let It Be - Remastered 2009</td>\n      <td>The Beatles</td>\n      <td>7iN1s7xHE4ifF5povM6A48</td>\n      <td>en</td>\n      <td>[0.9182237982749939, 0.5840091109275818, 159.5...</td>\n    </tr>\n    <tr>\n      <th>11</th>\n      <td>12</td>\n      <td>Needs</td>\n      <td>Verzache</td>\n      <td>0WKmVAD4VWk5EdTyCFILi4</td>\n      <td>en</td>\n      <td>[0.7710290551185608, 0.5357291102409363, 95.97...</td>\n    </tr>\n    <tr>\n      <th>12</th>\n      <td>13</td>\n      <td>They Don't Know About Us</td>\n      <td>One Direction</td>\n      <td>72C7aUQECOhNtnD0AC36ua</td>\n      <td>en</td>\n      <td>[0.7815825343132019, 0.5435947775840759, 101.7...</td>\n    </tr>\n    <tr>\n      <th>13</th>\n      <td>14</td>\n      <td>Give Me Everything (feat. Ne-Yo, Afrojack &amp; Na...</td>\n      <td>Pitbull</td>\n      <td>4QNpBfC0zvjKqPJcyqBy9W</td>\n      <td>en</td>\n      <td>[0.8940877318382263, 0.5833424925804138, 140.2...</td>\n    </tr>\n    <tr>\n      <th>14</th>\n      <td>15</td>\n      <td>My Type</td>\n      <td>Saweetie</td>\n      <td>5KBARWIxeMGkvUax9VtVC9</td>\n      <td>en</td>\n      <td>[0.7949814200401306, 0.550581157207489, 108.86...</td>\n    </tr>\n    <tr>\n      <th>15</th>\n      <td>16</td>\n      <td>Adore You</td>\n      <td>Harry Styles</td>\n      <td>3jjujdWJ72nww5eGnfs2E7</td>\n      <td>en</td>\n      <td>[0.8039147257804871, 0.5568854212760925, 115.6...</td>\n    </tr>\n    <tr>\n      <th>16</th>\n      <td>17</td>\n      <td>Envy Me</td>\n      <td>Calboy</td>\n      <td>05t7JMip6JrLuSrMV5yYjX</td>\n      <td>en</td>\n      <td>[0.7923392653465271, 0.5416359305381775, 102.3...</td>\n    </tr>\n    <tr>\n      <th>17</th>\n      <td>18</td>\n      <td>Everybody Wants To Rule The World</td>\n      <td>Tears For Fears</td>\n      <td>4RvWPyQ5RL0ao9LPZeSouE</td>\n      <td>en</td>\n      <td>[0.7934431433677673, 0.5555073618888855, 113.9...</td>\n    </tr>\n    <tr>\n      <th>18</th>\n      <td>19</td>\n      <td>Are You Bored Yet? (feat. Clairo)</td>\n      <td>Wallows</td>\n      <td>57RA3JGafJm5zRtKJiKPIm</td>\n      <td>en</td>\n      <td>[0.7938355803489685, 0.5368911623954773, 111.2...</td>\n    </tr>\n    <tr>\n      <th>19</th>\n      <td>21</td>\n      <td>Still The One</td>\n      <td>One Direction</td>\n      <td>1UAXlOxY1NXiJpP2sEK102</td>\n      <td>en</td>\n      <td>[0.7991661429405212, 0.5520686507225037, 109.7...</td>\n    </tr>\n    <tr>\n      <th>20</th>\n      <td>22</td>\n      <td>Body Like A Back Road</td>\n      <td>Sam Hunt</td>\n      <td>7mldq42yDuxiUNn08nvzHO</td>\n      <td>en</td>\n      <td>[0.7989863753318787, 0.5642396807670593, 125.7...</td>\n    </tr>\n    <tr>\n      <th>21</th>\n      <td>23</td>\n      <td>Palm Trees</td>\n      <td>Surfaces</td>\n      <td>6QUmgPztuRncOTVo3k7CiJ</td>\n      <td>en</td>\n      <td>[0.8212887644767761, 0.5715479254722595, 135.2...</td>\n    </tr>\n    <tr>\n      <th>22</th>\n      <td>24</td>\n      <td>Learning To Fly</td>\n      <td>Tom Petty and the Heartbreakers</td>\n      <td>17S4XrLvF5jlGvGCJHgF51</td>\n      <td>en</td>\n      <td>[0.834035336971283, 0.5538939833641052, 144.12...</td>\n    </tr>\n    <tr>\n      <th>23</th>\n      <td>26</td>\n      <td>Where The Light Is</td>\n      <td>Surfaces</td>\n      <td>7JVqkghLS7npSCHqeHWzKW</td>\n      <td>en</td>\n      <td>[0.800045907497406, 0.5499903559684753, 124.32...</td>\n    </tr>\n    <tr>\n      <th>24</th>\n      <td>27</td>\n      <td>Silence</td>\n      <td>Marshmello</td>\n      <td>7vGuf3Y35N4wmASOKLUVVU</td>\n      <td>en</td>\n      <td>[0.8337375521659851, 0.5579671263694763, 144.2...</td>\n    </tr>\n    <tr>\n      <th>25</th>\n      <td>28</td>\n      <td>Limelight</td>\n      <td>Rush</td>\n      <td>0K6yUnIKNsFtfIpTgGtcHm</td>\n      <td>en</td>\n      <td>[0.8242670893669128, 0.5636712908744812, 128.5...</td>\n    </tr>\n    <tr>\n      <th>26</th>\n      <td>29</td>\n      <td>What Lovers Do (feat. SZA)</td>\n      <td>Maroon 5</td>\n      <td>2j5hsQvApottzvTn4pFJWF</td>\n      <td>en</td>\n      <td>[0.8226637244224548, 0.5649582743644714, 135.1...</td>\n    </tr>\n    <tr>\n      <th>27</th>\n      <td>30</td>\n      <td>Across The Universe - Remastered 2009</td>\n      <td>The Beatles</td>\n      <td>4dkoqJrP0L8FXftrMZongF</td>\n      <td>en</td>\n      <td>[0.8752085566520691, 0.6017345786094666, 132.2...</td>\n    </tr>\n    <tr>\n      <th>28</th>\n      <td>31</td>\n      <td>Panini - DaBaby Remix</td>\n      <td>Lil Nas X</td>\n      <td>4SDgTLDYrJ2UrHbkRkg7MD</td>\n      <td>en</td>\n      <td>[0.7870821356773376, 0.5466360449790955, 102.6...</td>\n    </tr>\n    <tr>\n      <th>29</th>\n      <td>32</td>\n      <td>Tongue Tied</td>\n      <td>Grouplove</td>\n      <td>0GO8y8jQk1PkHzS31d699N</td>\n      <td>en</td>\n      <td>[0.7870509028434753, 0.5490612387657166, 105.5...</td>\n    </tr>\n    <tr>\n      <th>30</th>\n      <td>33</td>\n      <td>Upside Down</td>\n      <td>Jack Johnson</td>\n      <td>6shRGWCtBUOPFLFTTqXZIC</td>\n      <td>en</td>\n      <td>[0.7773763537406921, 0.5409566760063171, 99.44...</td>\n    </tr>\n    <tr>\n      <th>31</th>\n      <td>34</td>\n      <td>Animal</td>\n      <td>Neon Trees</td>\n      <td>1fBl642IhJOE5U319Gy2Go</td>\n      <td>en</td>\n      <td>[0.8387309908866882, 0.5539173483848572, 146.6...</td>\n    </tr>\n    <tr>\n      <th>32</th>\n      <td>35</td>\n      <td>Wouldn't It Be Nice - Stereo / Remastered</td>\n      <td>The Beach Boys</td>\n      <td>2Gy7qnDwt8Z3MNxqat4CsK</td>\n      <td>en</td>\n      <td>[0.7461680769920349, 0.5352837443351746, 93.66...</td>\n    </tr>\n    <tr>\n      <th>33</th>\n      <td>37</td>\n      <td>Rather Be (feat. Jess Glynne)</td>\n      <td>Clean Bandit</td>\n      <td>3s4U7OHV7gnj42VV72eSZ6</td>\n      <td>en</td>\n      <td>[0.7860023379325867, 0.5578457713127136, 117.7...</td>\n    </tr>\n    <tr>\n      <th>34</th>\n      <td>38</td>\n      <td>Sucker</td>\n      <td>Jonas Brothers</td>\n      <td>4y3OI86AEP6PQoDE6olYhO</td>\n      <td>en</td>\n      <td>[0.7782666087150574, 0.5441951155662537, 102.7...</td>\n    </tr>\n    <tr>\n      <th>35</th>\n      <td>40</td>\n      <td>SAD!</td>\n      <td>XXXTENTACION</td>\n      <td>3ee8Jmje8o58CHK66QrVC2</td>\n      <td>en</td>\n      <td>[0.801550567150116, 0.5474280714988708, 106.26...</td>\n    </tr>\n    <tr>\n      <th>36</th>\n      <td>41</td>\n      <td>Paradise</td>\n      <td>Bazzi</td>\n      <td>0Rx0DJI556Ix5gBny6EWmn</td>\n      <td>en</td>\n      <td>[0.7963363528251648, 0.5505465865135193, 107.6...</td>\n    </tr>\n    <tr>\n      <th>37</th>\n      <td>42</td>\n      <td>VIBEZ</td>\n      <td>DaBaby</td>\n      <td>0fySG6A6qLE8IvDpayb5bM</td>\n      <td>en</td>\n      <td>[0.8773559927940369, 0.5748853087425232, 132.4...</td>\n    </tr>\n    <tr>\n      <th>38</th>\n      <td>43</td>\n      <td>SICKO MODE</td>\n      <td>Travis Scott</td>\n      <td>2xLMifQCjDGFmkHkpNLD9h</td>\n      <td>en</td>\n      <td>[0.7124313712120056, 0.5231148600578308, 88.43...</td>\n    </tr>\n    <tr>\n      <th>39</th>\n      <td>44</td>\n      <td>Uno</td>\n      <td>Ambjaay</td>\n      <td>3AEgic4yp82NxMWUjHtxnO</td>\n      <td>en</td>\n      <td>[0.7826613783836365, 0.5403613448143005, 100.3...</td>\n    </tr>\n    <tr>\n      <th>40</th>\n      <td>45</td>\n      <td>Rodeo</td>\n      <td>Lil Nas X</td>\n      <td>4ak7xjvBeBOcJGWFDX9w5n</td>\n      <td>en</td>\n      <td>[0.7891282439231873, 0.5517625212669373, 107.3...</td>\n    </tr>\n    <tr>\n      <th>41</th>\n      <td>46</td>\n      <td>Talk (feat. Disclosure)</td>\n      <td>Khalid</td>\n      <td>6TqXcAFInzjp0bODyvrWEq</td>\n      <td>en</td>\n      <td>[0.810703456401825, 0.5601450800895691, 114.18...</td>\n    </tr>\n    <tr>\n      <th>42</th>\n      <td>47</td>\n      <td>Falling</td>\n      <td>Trevor Daniel</td>\n      <td>4TnjEaWOeW0eKTKIEvJyCa</td>\n      <td>en</td>\n      <td>[0.7666870951652527, 0.5340268015861511, 94.65...</td>\n    </tr>\n    <tr>\n      <th>43</th>\n      <td>49</td>\n      <td>End Of The Line</td>\n      <td>Traveling Wilburys</td>\n      <td>4HA2jo7wkMdN1lmLO6ryzE</td>\n      <td>en</td>\n      <td>[0.8077101111412048, 0.5429834723472595, 114.4...</td>\n    </tr>\n  </tbody>\n</table>\n</div>"
     },
     "metadata": {},
     "execution_count": 22
    }
   ],
   "source": [
    "df"
   ]
  },
  {
   "cell_type": "code",
   "execution_count": 14,
   "metadata": {},
   "outputs": [],
   "source": [
    "import json\n",
    "import numpy as np\n",
    "with open('static/assets/movie_data.json') as f:\n",
    "        data = json.load(f)"
   ]
  },
  {
   "cell_type": "code",
   "execution_count": 23,
   "metadata": {},
   "outputs": [
    {
     "output_type": "execute_result",
     "data": {
      "text/plain": [
       "[0.5676284,\n",
       " 1.2058978,\n",
       " -0.2627478,\n",
       " -1.1515511,\n",
       " -1.1492127,\n",
       " -0.53111666,\n",
       " -2.7649083,\n",
       " -5.876196]"
      ]
     },
     "metadata": {},
     "execution_count": 23
    }
   ],
   "source": [
    "list(data.values())[0]['weights']"
   ]
  },
  {
   "cell_type": "code",
   "execution_count": 67,
   "metadata": {},
   "outputs": [
    {
     "output_type": "error",
     "ename": "AttributeError",
     "evalue": "'TensorSliceDataset' object has no attribute 'values'",
     "traceback": [
      "\u001b[1;31m---------------------------------------------------------------------------\u001b[0m",
      "\u001b[1;31mAttributeError\u001b[0m                            Traceback (most recent call last)",
      "\u001b[1;32m<ipython-input-67-b91c4b650a4e>\u001b[0m in \u001b[0;36m<module>\u001b[1;34m\u001b[0m\n\u001b[1;32m----> 1\u001b[1;33m \u001b[0mavg_movie_weight\u001b[0m \u001b[1;33m=\u001b[0m \u001b[0mnp\u001b[0m\u001b[1;33m.\u001b[0m\u001b[0marray\u001b[0m\u001b[1;33m(\u001b[0m\u001b[1;33m[\u001b[0m\u001b[0mi\u001b[0m\u001b[1;33m[\u001b[0m\u001b[1;34m'weights'\u001b[0m\u001b[1;33m]\u001b[0m \u001b[1;32mfor\u001b[0m \u001b[0mi\u001b[0m \u001b[1;32min\u001b[0m \u001b[0mdata\u001b[0m\u001b[1;33m.\u001b[0m\u001b[0mvalues\u001b[0m\u001b[1;33m(\u001b[0m\u001b[1;33m)\u001b[0m\u001b[1;33m]\u001b[0m\u001b[1;33m)\u001b[0m\u001b[1;33m.\u001b[0m\u001b[0mreshape\u001b[0m\u001b[1;33m(\u001b[0m\u001b[1;36m10\u001b[0m\u001b[1;33m,\u001b[0m\u001b[1;36m8\u001b[0m\u001b[1;33m)\u001b[0m\u001b[1;33m.\u001b[0m\u001b[0mmean\u001b[0m\u001b[1;33m(\u001b[0m\u001b[0maxis\u001b[0m \u001b[1;33m=\u001b[0m \u001b[1;36m0\u001b[0m\u001b[1;33m)\u001b[0m\u001b[1;33m\u001b[0m\u001b[1;33m\u001b[0m\u001b[0m\n\u001b[0m\u001b[0;32m      2\u001b[0m \u001b[0mweights\u001b[0m \u001b[1;33m=\u001b[0m \u001b[0mnp\u001b[0m\u001b[1;33m.\u001b[0m\u001b[0marray\u001b[0m\u001b[1;33m(\u001b[0m\u001b[0mdf\u001b[0m\u001b[1;33m[\u001b[0m\u001b[1;34m'weights'\u001b[0m\u001b[1;33m]\u001b[0m\u001b[1;33m.\u001b[0m\u001b[0mvalues\u001b[0m\u001b[1;33m.\u001b[0m\u001b[0mtolist\u001b[0m\u001b[1;33m(\u001b[0m\u001b[1;33m)\u001b[0m\u001b[1;33m)\u001b[0m\u001b[1;33m\u001b[0m\u001b[1;33m\u001b[0m\u001b[0m\n\u001b[0;32m      3\u001b[0m \u001b[0mavg_norms\u001b[0m \u001b[1;33m=\u001b[0m \u001b[0mnp\u001b[0m\u001b[1;33m.\u001b[0m\u001b[0mlinalg\u001b[0m\u001b[1;33m.\u001b[0m\u001b[0mnorm\u001b[0m\u001b[1;33m(\u001b[0m\u001b[0mweights\u001b[0m \u001b[1;33m-\u001b[0m \u001b[0mavg_movie_weight\u001b[0m\u001b[1;33m,\u001b[0m \u001b[0maxis\u001b[0m \u001b[1;33m=\u001b[0m \u001b[1;36m1\u001b[0m\u001b[1;33m)\u001b[0m\u001b[1;33m\u001b[0m\u001b[1;33m\u001b[0m\u001b[0m\n\u001b[0;32m      4\u001b[0m \u001b[1;33m\u001b[0m\u001b[0m\n\u001b[0;32m      5\u001b[0m \u001b[1;31m# weights = np.array(df['weights'].values.tolist())\u001b[0m\u001b[1;33m\u001b[0m\u001b[1;33m\u001b[0m\u001b[1;33m\u001b[0m\u001b[0m\n",
      "\u001b[1;31mAttributeError\u001b[0m: 'TensorSliceDataset' object has no attribute 'values'"
     ]
    }
   ],
   "source": [
    "avg_movie_weight = np.array([i['weights'] for i in data.values()]).reshape(10,8).mean(axis = 0)\n",
    "weights = np.array(df['weights'].values.tolist())\n",
    "avg_norms = np.linalg.norm(weights - avg_movie_weight, axis = 1)\n",
    "\n",
    "# weights = np.array(df['weights'].values.tolist())\n",
    "ix = np.argsort(avg_norms)\n",
    "df.iloc[ix]\n",
    "# test_df = df[avg_norms > 5.5]"
   ]
  },
  {
   "cell_type": "code",
   "execution_count": 53,
   "metadata": {},
   "outputs": [
    {
     "output_type": "stream",
     "name": "stdout",
     "text": [
      "Star Wars \n ['Limelight', 'Body Like A Back Road', 'Let It Be - Remastered 2009'] [2.25215403 3.15101791 3.88351037]\nStar Trek \n ['Limelight', 'What Lovers Do (feat. SZA)', 'Are You Bored Yet? (feat. Clairo)'] [2.29312909 3.11037156 3.62229383]\nShawshank Redemption \n ['Limelight', \"Wouldn't It Be Nice - Stereo / Remastered\", 'What Lovers Do (feat. SZA)'] [2.79726329 3.39505019 3.64589578]\nDead Poets Society \n ['What Lovers Do (feat. SZA)', \"Wouldn't It Be Nice - Stereo / Remastered\", 'Panini - DaBaby Remix'] [3.58360847 3.76526175 3.98330732]\nThe Bourne Ultimatum \n ['Limelight', 'What Lovers Do (feat. SZA)', \"Wouldn't It Be Nice - Stereo / Remastered\"] [2.43319676 2.48221992 3.82781866]\nThe Fellowship of the Ring \n [\"Wouldn't It Be Nice - Stereo / Remastered\", 'Limelight', 'What Lovers Do (feat. SZA)'] [2.37501041 3.44429014 3.99558291]\nForrest Gump \n ['What Lovers Do (feat. SZA)', 'Limelight', \"Wouldn't It Be Nice - Stereo / Remastered\"] [2.36117576 2.57938569 3.83490619]\nGood Will Hunting \n ['Panini - DaBaby Remix', 'Time of Our Lives', 'Limelight'] [3.007143   4.12065861 4.40435087]\nThe Incredibles \n ['What Lovers Do (feat. SZA)', 'Limelight', \"Wouldn't It Be Nice - Stereo / Remastered\"] [2.75317267 3.41225764 4.67895461]\nTitanic \n ['Limelight', 'Panini - DaBaby Remix', 'Are You Bored Yet? (feat. Clairo)'] [2.89404294 3.15393452 3.36612871]\n"
     ]
    }
   ],
   "source": [
    "for chosen_movie in data:\n",
    "    weights = np.array(df['weights'].values.tolist())\n",
    "        # calculate songs closest in weight to movie weights\n",
    "    norms = np.linalg.norm(weights - np.array(data[chosen_movie]['weights']), axis = 1,)\n",
    "    ix = np.argsort(norms)\n",
    "    sorted_df = df.iloc[ix]\n",
    "    top_3_songs = sorted_df.iloc[0:3]['track_name'].to_list()\n",
    "\n",
    "    print(chosen_movie, \"\\n\", top_3_songs, norms[sorted_df.iloc[0:3].index])"
   ]
  },
  {
   "cell_type": "code",
   "execution_count": 49,
   "metadata": {},
   "outputs": [
    {
     "output_type": "execute_result",
     "data": {
      "text/plain": [
       "2.6780088985139527"
      ]
     },
     "metadata": {},
     "execution_count": 49
    }
   ],
   "source": [
    "np.linalg.norm(np.array(data[\"Shawshank Redemption\"]['weights']) - np.array(data[\"Dead Poets Society\"]['weights']))"
   ]
  },
  {
   "cell_type": "code",
   "execution_count": 14,
   "metadata": {},
   "outputs": [],
   "source": [
    "import pandas as pd\n",
    "import tensorflow as tf\n",
    "\n",
    "from tensorflow.keras import layers\n",
    "from tensorflow.keras import losses\n",
    "from tensorflow import keras \n",
    "from tensorflow.keras.layers.experimental.preprocessing import TextVectorization\n",
    "from tensorflow.keras.layers.experimental.preprocessing import StringLookup\n",
    "\n",
    "from sklearn.model_selection import train_test_split\n",
    "from sklearn.preprocessing import LabelEncoder\n",
    "MAX_TOKENS = 2000\n",
    "SEQUENCE_LENGTH = 500\n",
    "\n",
    "def create_model(max_tokens=None):\n",
    "\n",
    "    lyrics_input = keras.Input(\n",
    "        shape = (500,), \n",
    "        name = \"lyrics\",\n",
    "        dtype = \"int32\"\n",
    "    )\n",
    "    # lyrics_features = vectorize_layer(lyrics_input)\n",
    "    lyrics_features = layers.Embedding(max_tokens or MAX_TOKENS, 60, name = \"embedding\")(lyrics_input)\n",
    "    lyrics_features = layers.Dropout(0.2)(lyrics_features)\n",
    "    # lyrics_features = layers.GlobalAveragePooling1D()(lyrics_features)\n",
    "    # lyrics_features = layers.LSTM(100)(lyrics_features)\n",
    "    # lyrics_features = layers.Dropout(0.2)(lyrics_features)\n",
    "    # lyrics_features = layers.Dense(32, activation='relu')(lyrics_features)\n",
    "    lyrics_features = layers.Conv1D(64, 5, activation='relu')(lyrics_features)\n",
    "    lyrics_features = layers.MaxPooling1D(pool_size=4)(lyrics_features)\n",
    "    lyrics_features = layers.LSTM(100)(lyrics_features)\n",
    "    lyrics_features = layers.Dropout(0.2)(lyrics_features)\n",
    "    lyrics_features = layers.Dense(64, activation='relu')(lyrics_features)\n",
    "    lyrics_features = layers.Dense(32, activation='relu')(lyrics_features)\n",
    "    output1 = layers.Dense(4, name = \"energy\")(lyrics_features)\n",
    "    # output2 = layers.Dense(1, name = \"valence\")(lyrics_features)\n",
    "    # output3 = layers.Dense(1, name = \"tempo\")(lyrics_features)\n",
    "    # output4 = layers.Dense(1, name = \"liveness\")(lyrics_features)\n",
    "    model = keras.Model(inputs=lyrics_input, outputs=[output1])\n",
    "    model.compile(loss='mae',\n",
    "              optimizer='adam',)\n",
    "    model.load_weights('../checkpoints/my_checkpoint_30')\n",
    "\n",
    "    return model\n",
    "\n",
    "vectorize_layer = TextVectorization(\n",
    "    max_tokens=MAX_TOKENS, # only consider this many words\n",
    "    output_mode='int',\n",
    "    output_sequence_length=SEQUENCE_LENGTH) \n",
    "\n",
    "def vectorize_movie_scripts(text):\n",
    "    text = tf.expand_dims(text, -1)\n",
    "    return vectorize_layer(text)\n",
    "\n",
    "import re\n",
    "def stringProcessing(s):\n",
    "    s = re.sub(r\"\\'\", \"\", s)\n",
    "    s = re.sub(r'\\n', ' ', s)\n",
    "    s = re.sub(r'\\t', '', s)\n",
    "    s = re.sub(r\"\\[[^[]*\\]\", '', s)\n",
    "    s = re.sub(r'[^\\w\\s]', ' ', s)\n",
    "    s = re.sub(r' +', ' ', s)\n",
    "    s = s.strip()\n",
    "    s = s.lower()\n",
    "    return s"
   ]
  },
  {
   "cell_type": "code",
   "execution_count": 23,
   "metadata": {},
   "outputs": [
    {
     "output_type": "stream",
     "name": "stdout",
     "text": [
      "WARNING:tensorflow:Unresolved object in checkpoint: (root).optimizer.iter\n",
      "WARNING:tensorflow:Unresolved object in checkpoint: (root).optimizer.beta_1\n",
      "WARNING:tensorflow:Unresolved object in checkpoint: (root).optimizer.beta_2\n",
      "WARNING:tensorflow:Unresolved object in checkpoint: (root).optimizer.decay\n",
      "WARNING:tensorflow:Unresolved object in checkpoint: (root).optimizer.learning_rate\n",
      "WARNING:tensorflow:A checkpoint was restored (e.g. tf.train.Checkpoint.restore or tf.keras.Model.load_weights) but not all checkpointed values were used. See above for specific issues. Use expect_partial() on the load status object, e.g. tf.train.Checkpoint.restore(...).expect_partial(), to silence these warnings, or use assert_consumed() to make the check explicit. See https://www.tensorflow.org/guide/checkpoint#loading_mechanics for details.\n",
      "bourne.txt [  0.8028168    0.54838055 108.58993      0.13968945]\n",
      "deadpoets.txt [  0.91196984   0.58987993 151.97827      0.16713756]\n",
      "fellowship.txt [ 0.73340935  0.5333094  89.36578     0.13055968]\n",
      "forrest.txt [  0.8148412    0.5624935  116.31569      0.13917923]\n",
      "goodwillhunting.txt [  0.8513357    0.5705814  132.71431      0.16935092]\n",
      "incredibles.txt [  0.81596416   0.5668687  122.77204      0.13890487]\n",
      "jedi.txt [  0.7981779    0.5339753  110.80746      0.15427852]\n",
      "khan.txt [  0.8221025    0.5758075  130.59529      0.14089489]\n",
      "shawshank.txt [  0.81988424   0.5672764  121.83119      0.14175367]\n",
      "titanic.txt [  0.8225643    0.5699205  123.32264      0.14206994]\n"
     ]
    }
   ],
   "source": [
    "import os\n",
    "model = create_model() \n",
    "\n",
    "# df = pd.read_csv(\"https://raw.githubusercontent.com/benbrill/MoodSpace/main/data/trainingSongs_clean.csv\")\n",
    "\n",
    "# data = tf.data.Dataset.from_tensor_slices((df[\"lyrics\"]))\n",
    "# data_vec = data.map(vectorize_headline)\n",
    "# df = pd.DataFrame(model.predict(data_vec))\n",
    "# df.shape\n",
    "d = {}\n",
    "for script_path in os.listdir(\"../scripts\"):\n",
    "    with open(f\"../scripts/{script_path}\") as f:\n",
    "        contents = f.read()\n",
    "\n",
    "        contents = stringProcessing(contents)\n",
    "\n",
    "        df2 = pd.DataFrame({\"lyrics\": [contents]})\n",
    "        \n",
    "\n",
    "\n",
    "        data = tf.data.Dataset.from_tensor_slices((df2[\"lyrics\"]))\n",
    "        vectorize_layer.adapt(data)\n",
    "        data_vec = data.map(vectorize_movie_scripts)\n",
    "        d[script_path] = model.predict(data_vec)[0]\n",
    "        print(script_path, model.predict(data_vec)[0])"
   ]
  },
  {
   "cell_type": "code",
   "execution_count": 28,
   "metadata": {},
   "outputs": [
    {
     "output_type": "stream",
     "name": "stdout",
     "text": [
      "bourne.txt \n ['My Type', 'Sunflower - Spider-Man: Into the Spider-Verse', 'Paradise', 'Still The One', 'Rodeo', 'SAD!'] [0.27919775 0.40932144 0.94714614 1.14510073 1.28670679 2.32040495]\ndeadpoets.txt \n ['Animal', 'Let It Be - Remastered 2009', 'Silence', 'Learning To Fly', 'Super Bass', 'Give Me Everything (feat. Ne-Yo, Afrojack & Nayer)'] [ 5.30707812  7.53202039  7.68696145  7.85513245  9.49596739 11.71960563]\nfellowship.txt \n ['SICKO MODE', \"Ridin' Solo\", \"Wouldn't It Be Nice - Stereo / Remastered\", 'Falling', 'Needs', 'What A Man Gotta Do'] [0.93414801 4.09612638 4.30051829 5.29299471 6.60576203 6.6892935 ]\nforrest.txt \n ['Adore You', 'Rather Be (feat. Jess Glynne)', 'End Of The Line', 'Talk (feat. Disclosure)', 'Everybody Wants To Rule The World', 'Suicidal'] [0.66819615 1.47093293 1.87153732 2.13546569 2.4059437  4.15976671]\ngoodwillhunting.txt \n ['VIBEZ', 'Across The Universe - Remastered 2009', 'What Lovers Do (feat. SZA)', 'Palm Trees', 'Limelight', 'Time of Our Lives'] [0.26384005 0.49347443 2.39363477 2.58158667 4.18807847 4.70138784]\nincredibles.txt \n ['Where The Light Is', 'Body Like A Back Road', 'Rather Be (feat. Jess Glynne)', 'Time of Our Lives', 'Limelight', 'Adore You'] [1.5499127  3.00689267 4.98580849 5.24111079 5.75440915 7.12445263]\njedi.txt \n ['Are You Bored Yet? (feat. Clairo)', 'Still The One', 'Suicidal', 'Sunflower - Spider-Man: Into the Spider-Verse', 'My Type', 'Everybody Wants To Rule The World'] [0.40464427 1.07267604 1.34875704 1.80848067 1.93859332 3.10251613]\nkhan.txt \n ['Across The Universe - Remastered 2009', 'VIBEZ', 'Limelight', 'Time of Our Lives', 'What Lovers Do (feat. SZA)', 'Palm Trees'] [1.62860134 1.85773542 2.06888675 2.58273401 4.51229678 4.70024392]\nshawshank.txt \n ['Where The Light Is', 'Body Like A Back Road', 'Rather Be (feat. Jess Glynne)', 'Time of Our Lives', 'Adore You', 'Limelight'] [2.49073133 3.94775066 4.04501578 6.18188895 6.18361588 6.69525506]\ntitanic.txt \n ['Where The Light Is', 'Body Like A Back Road', 'Time of Our Lives', 'Limelight', 'Rather Be (feat. Jess Glynne)', 'Adore You'] [0.99960969 2.45636768 4.69047067 5.20380982 5.53644392 7.67506773]\n"
     ]
    }
   ],
   "source": [
    "for key in d.keys():\n",
    "    weights = np.array(df['weights'].values.tolist())\n",
    "        # calculate songs closest in weight to movie weights\n",
    "    norms = np.linalg.norm(weights - d[key], axis = 1,)\n",
    "    ix = np.argsort(norms)\n",
    "    sorted_df = df.iloc[ix]\n",
    "    top_3_songs = sorted_df.iloc[0:6]['track_name'].to_list()\n",
    "\n",
    "    print(key, \"\\n\", top_3_songs, norms[sorted_df.iloc[0:6].index])"
   ]
  },
  {
   "cell_type": "code",
   "execution_count": 17,
   "metadata": {},
   "outputs": [],
   "source": [
    "import numpy as np"
   ]
  },
  {
   "cell_type": "code",
   "execution_count": 19,
   "metadata": {},
   "outputs": [
    {
     "output_type": "execute_result",
     "data": {
      "text/plain": [
       "                                              lyrics\n",
       "0  jack and rose drift under the blazing stars th..."
      ],
      "text/html": "<div>\n<style scoped>\n    .dataframe tbody tr th:only-of-type {\n        vertical-align: middle;\n    }\n\n    .dataframe tbody tr th {\n        vertical-align: top;\n    }\n\n    .dataframe thead th {\n        text-align: right;\n    }\n</style>\n<table border=\"1\" class=\"dataframe\">\n  <thead>\n    <tr style=\"text-align: right;\">\n      <th></th>\n      <th>lyrics</th>\n    </tr>\n  </thead>\n  <tbody>\n    <tr>\n      <th>0</th>\n      <td>jack and rose drift under the blazing stars th...</td>\n    </tr>\n  </tbody>\n</table>\n</div>"
     },
     "metadata": {},
     "execution_count": 19
    }
   ],
   "source": [
    "df"
   ]
  },
  {
   "cell_type": "code",
   "execution_count": null,
   "metadata": {},
   "outputs": [],
   "source": []
  }
 ]
}