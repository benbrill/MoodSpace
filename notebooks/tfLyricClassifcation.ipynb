{
  "nbformat": 4,
  "nbformat_minor": 0,
  "metadata": {
    "colab": {
      "name": "tfLyricClassifcation.ipynb",
      "provenance": [],
      "authorship_tag": "ABX9TyO4n0KZpbZINvFVaDbqU/Dq"
    },
    "kernelspec": {
      "name": "python395jvsc74a57bd063a8339a2b998405504b80cac15dbfc0480b6c1c806e16474572f1b40b735ee0",
      "display_name": "Python 3.9.5 64-bit ('env': venv)"
    },
    "language_info": {
      "name": "python",
      "version": "3.9.5"
    },
    "accelerator": "GPU",
    "metadata": {
      "interpreter": {
        "hash": "63a8339a2b998405504b80cac15dbfc0480b6c1c806e16474572f1b40b735ee0"
      }
    }
  },
  "cells": [
    {
      "cell_type": "code",
      "metadata": {
        "id": "7Gimym_e08Xr"
      },
      "source": [
        "import numpy as np\n",
        "import pandas as pd\n",
        "import tensorflow as tf\n",
        "import re\n",
        "import string\n",
        "\n",
        "from tensorflow.keras import layers\n",
        "from tensorflow.keras import losses\n",
        "\n",
        "# requires update to tensorflow 2.4\n",
        "# >>> conda activate PIC16B\n",
        "# >>> pip install tensorflow==2.4\n",
        "from tensorflow.keras.layers.experimental.preprocessing import TextVectorization\n",
        "from tensorflow.keras.layers.experimental.preprocessing import StringLookup\n",
        "\n",
        "from sklearn.model_selection import train_test_split\n",
        "from sklearn.preprocessing import LabelEncoder"
      ],
      "execution_count": 1,
      "outputs": []
    },
    {
      "source": [
        "# Import Data"
      ],
      "cell_type": "markdown",
      "metadata": {}
    },
    {
      "cell_type": "code",
      "metadata": {
        "colab": {
          "base_uri": "https://localhost:8080/",
          "height": 1000
        },
        "id": "xjv0ShaR1GO1",
        "outputId": "c8471504-b3ab-47c0-bd90-77a9502eb244"
      },
      "source": [
        "df = pd.read_csv(\"https://raw.githubusercontent.com/benbrill/MoodSpace/main/data/trainingSongs_clean.csv\")\n",
        "df.head()"
      ],
      "execution_count": 2,
      "outputs": [
        {
          "output_type": "execute_result",
          "data": {
            "text/plain": [
              "   Unnamed: 0                        trackName          artist  \\\n",
              "0           3                      Overthinker            INZO   \n",
              "1           4  Lifestyles of the Rich & Famous  Good Charlotte   \n",
              "2           6       Carrying Your Love With Me   George Strait   \n",
              "3           7                Check Yes, Juliet    We The Kings   \n",
              "4           8      At My Worst (feat. Kehlani)     Pink Sweat$   \n",
              "\n",
              "                       id  danceability  energy   key  loudness  mode  \\\n",
              "0  4K9xid96G3YmIvQZXN9SXg         0.472   0.605   8.0    -4.437   1.0   \n",
              "1  2g2a5kDeZexbUTD8abcvm6         0.620   0.930   1.0    -3.685   1.0   \n",
              "2  7puxIVNdj5nsBJk43zM3bH         0.629   0.479  10.0   -10.608   1.0   \n",
              "3  0wVluBsVAVzBKrqspuCcwR         0.352   0.912   7.0    -4.253   1.0   \n",
              "4  58w68w4s8h9gw3xrDaXyuj         0.731   0.484   0.0    -5.579   1.0   \n",
              "\n",
              "   speechiness  acousticness  instrumentalness  liveness  valence    tempo  \\\n",
              "0       0.1340       0.03110          0.030800    0.1010    0.212  128.375   \n",
              "1       0.0374       0.00043          0.000000    0.0686    0.609  106.220   \n",
              "2       0.0271       0.22000          0.000000    0.0587    0.345  138.231   \n",
              "3       0.0725       0.00197          0.000000    0.1930    0.351  166.795   \n",
              "4       0.0354       0.73000          0.000003    0.3260    0.350   92.043   \n",
              "\n",
              "             type                                             lyrics  cluster  \\\n",
              "0  audio_features  a person who thinks all the time has nothing t...        0   \n",
              "1  audio_features  always see it on t v or read in the magazines ...        3   \n",
              "2  audio_features  baby all i got is this beat up leather bag and...        5   \n",
              "3  audio_features  check yes juliet are you with me rain is falli...        2   \n",
              "4  audio_features  can i call you baby can you be my friend can y...        1   \n",
              "\n",
              "  language  \n",
              "0       en  \n",
              "1       en  \n",
              "2       en  \n",
              "3       en  \n",
              "4       en  "
            ],
            "text/html": "<div>\n<style scoped>\n    .dataframe tbody tr th:only-of-type {\n        vertical-align: middle;\n    }\n\n    .dataframe tbody tr th {\n        vertical-align: top;\n    }\n\n    .dataframe thead th {\n        text-align: right;\n    }\n</style>\n<table border=\"1\" class=\"dataframe\">\n  <thead>\n    <tr style=\"text-align: right;\">\n      <th></th>\n      <th>Unnamed: 0</th>\n      <th>trackName</th>\n      <th>artist</th>\n      <th>id</th>\n      <th>danceability</th>\n      <th>energy</th>\n      <th>key</th>\n      <th>loudness</th>\n      <th>mode</th>\n      <th>speechiness</th>\n      <th>acousticness</th>\n      <th>instrumentalness</th>\n      <th>liveness</th>\n      <th>valence</th>\n      <th>tempo</th>\n      <th>type</th>\n      <th>lyrics</th>\n      <th>cluster</th>\n      <th>language</th>\n    </tr>\n  </thead>\n  <tbody>\n    <tr>\n      <th>0</th>\n      <td>3</td>\n      <td>Overthinker</td>\n      <td>INZO</td>\n      <td>4K9xid96G3YmIvQZXN9SXg</td>\n      <td>0.472</td>\n      <td>0.605</td>\n      <td>8.0</td>\n      <td>-4.437</td>\n      <td>1.0</td>\n      <td>0.1340</td>\n      <td>0.03110</td>\n      <td>0.030800</td>\n      <td>0.1010</td>\n      <td>0.212</td>\n      <td>128.375</td>\n      <td>audio_features</td>\n      <td>a person who thinks all the time has nothing t...</td>\n      <td>0</td>\n      <td>en</td>\n    </tr>\n    <tr>\n      <th>1</th>\n      <td>4</td>\n      <td>Lifestyles of the Rich &amp; Famous</td>\n      <td>Good Charlotte</td>\n      <td>2g2a5kDeZexbUTD8abcvm6</td>\n      <td>0.620</td>\n      <td>0.930</td>\n      <td>1.0</td>\n      <td>-3.685</td>\n      <td>1.0</td>\n      <td>0.0374</td>\n      <td>0.00043</td>\n      <td>0.000000</td>\n      <td>0.0686</td>\n      <td>0.609</td>\n      <td>106.220</td>\n      <td>audio_features</td>\n      <td>always see it on t v or read in the magazines ...</td>\n      <td>3</td>\n      <td>en</td>\n    </tr>\n    <tr>\n      <th>2</th>\n      <td>6</td>\n      <td>Carrying Your Love With Me</td>\n      <td>George Strait</td>\n      <td>7puxIVNdj5nsBJk43zM3bH</td>\n      <td>0.629</td>\n      <td>0.479</td>\n      <td>10.0</td>\n      <td>-10.608</td>\n      <td>1.0</td>\n      <td>0.0271</td>\n      <td>0.22000</td>\n      <td>0.000000</td>\n      <td>0.0587</td>\n      <td>0.345</td>\n      <td>138.231</td>\n      <td>audio_features</td>\n      <td>baby all i got is this beat up leather bag and...</td>\n      <td>5</td>\n      <td>en</td>\n    </tr>\n    <tr>\n      <th>3</th>\n      <td>7</td>\n      <td>Check Yes, Juliet</td>\n      <td>We The Kings</td>\n      <td>0wVluBsVAVzBKrqspuCcwR</td>\n      <td>0.352</td>\n      <td>0.912</td>\n      <td>7.0</td>\n      <td>-4.253</td>\n      <td>1.0</td>\n      <td>0.0725</td>\n      <td>0.00197</td>\n      <td>0.000000</td>\n      <td>0.1930</td>\n      <td>0.351</td>\n      <td>166.795</td>\n      <td>audio_features</td>\n      <td>check yes juliet are you with me rain is falli...</td>\n      <td>2</td>\n      <td>en</td>\n    </tr>\n    <tr>\n      <th>4</th>\n      <td>8</td>\n      <td>At My Worst (feat. Kehlani)</td>\n      <td>Pink Sweat$</td>\n      <td>58w68w4s8h9gw3xrDaXyuj</td>\n      <td>0.731</td>\n      <td>0.484</td>\n      <td>0.0</td>\n      <td>-5.579</td>\n      <td>1.0</td>\n      <td>0.0354</td>\n      <td>0.73000</td>\n      <td>0.000003</td>\n      <td>0.3260</td>\n      <td>0.350</td>\n      <td>92.043</td>\n      <td>audio_features</td>\n      <td>can i call you baby can you be my friend can y...</td>\n      <td>1</td>\n      <td>en</td>\n    </tr>\n  </tbody>\n</table>\n</div>"
          },
          "metadata": {},
          "execution_count": 2
        }
      ]
    },
    {
      "source": [
        "# Create Text Vectorization"
      ],
      "cell_type": "markdown",
      "metadata": {}
    },
    {
      "cell_type": "code",
      "metadata": {
        "id": "oDTSMbEC2Szp"
      },
      "source": [
        "max_tokens = 200\n",
        "sequence_length = 500\n",
        "\n",
        "vectorize_layer = TextVectorization(\n",
        "    max_tokens=max_tokens, # only consider this many words\n",
        "    output_mode='int',\n",
        "    output_sequence_length=sequence_length) "
      ],
      "execution_count": 3,
      "outputs": []
    },
    {
      "cell_type": "code",
      "metadata": {
        "id": "3W_PQpzv2W2E"
      },
      "source": [
        "data = tf.data.Dataset.from_tensor_slices((df[\"lyrics\"], df[\"cluster\"]))"
      ],
      "execution_count": 4,
      "outputs": []
    },
    {
      "cell_type": "code",
      "metadata": {
        "colab": {
          "base_uri": "https://localhost:8080/"
        },
        "id": "nbmJ12El3UdI",
        "outputId": "aaf33015-32d9-4051-800a-0dc7472d198e"
      },
      "source": [
        "data = data.shuffle(buffer_size = len(data))\n",
        "\n",
        "train_size = int(0.7*len(data))\n",
        "val_size   = int(0.1*len(data))\n",
        "\n",
        "train = data.take(train_size)\n",
        "val   = data.skip(train_size).take(val_size)\n",
        "test  = data.skip(train_size + val_size)\n",
        "len(train), len(val), len(test)"
      ],
      "execution_count": 5,
      "outputs": [
        {
          "output_type": "execute_result",
          "data": {
            "text/plain": [
              "(501, 71, 145)"
            ]
          },
          "metadata": {},
          "execution_count": 5
        }
      ]
    },
    {
      "cell_type": "code",
      "metadata": {
        "id": "Xft9VRhW40BB"
      },
      "source": [
        "def vectorize_movie_script(text, label):\n",
        "    text = tf.expand_dims(text, -1)\n",
        "    return vectorize_layer(text), [label]\n",
        "\n",
        "train_vec = train.map(vectorize_movie_script)\n",
        "val_vec   = val.map(vectorize_movie_script)\n",
        "test_vec  = test.map(vectorize_movie_script)"
      ],
      "execution_count": 6,
      "outputs": []
    },
    {
      "source": [
        "# Create Model"
      ],
      "cell_type": "markdown",
      "metadata": {}
    },
    {
      "cell_type": "code",
      "metadata": {
        "id": "6NTNTIBe4dST"
      },
      "source": [
        "model = tf.keras.Sequential([\n",
        "  layers.Embedding(max_tokens, output_dim = 10, name=\"embedding\"),\n",
        "  layers.Dropout(0.2),\n",
        "  layers.GlobalAveragePooling1D(),\n",
        "  layers.Dropout(0.2),\n",
        "  layers.Dense(8)]\n",
        ")"
      ],
      "execution_count": 7,
      "outputs": []
    },
    {
      "cell_type": "code",
      "metadata": {
        "id": "QBvK_cSd4iNS"
      },
      "source": [
        "model.compile(loss=losses.SparseCategoricalCrossentropy(from_logits=True),\n",
        "              optimizer='adam', \n",
        "              metrics=['accuracy'])"
      ],
      "execution_count": 8,
      "outputs": []
    },
    {
      "cell_type": "code",
      "metadata": {
        "colab": {
          "base_uri": "https://localhost:8080/"
        },
        "id": "EOvPCjkg4oD4",
        "outputId": "90aca939-e584-40bb-e647-84aab7ab9192"
      },
      "source": [
        "history = model.fit(train_vec, epochs = 100, validation_data = val_vec)"
      ],
      "execution_count": 9,
      "outputs": [
        {
          "output_type": "stream",
          "name": "stdout",
          "text": [
            "Epoch 1/100\n",
            "501/501 [==============================] - 2s 2ms/step - loss: 2.0525 - accuracy: 0.1592 - val_loss: 1.9466 - val_accuracy: 0.3099\n",
            "Epoch 2/100\n",
            "501/501 [==============================] - 1s 2ms/step - loss: 1.9301 - accuracy: 0.2390 - val_loss: 1.9250 - val_accuracy: 0.1408\n",
            "Epoch 3/100\n",
            "501/501 [==============================] - 1s 1ms/step - loss: 1.8977 - accuracy: 0.2643 - val_loss: 1.7933 - val_accuracy: 0.2958\n",
            "Epoch 4/100\n",
            "501/501 [==============================] - 1s 2ms/step - loss: 1.8806 - accuracy: 0.2531 - val_loss: 1.8956 - val_accuracy: 0.1549\n",
            "Epoch 5/100\n",
            "501/501 [==============================] - 1s 2ms/step - loss: 1.8373 - accuracy: 0.2600 - val_loss: 1.8504 - val_accuracy: 0.2113\n",
            "Epoch 6/100\n",
            "501/501 [==============================] - 1s 2ms/step - loss: 1.8477 - accuracy: 0.2564 - val_loss: 1.8924 - val_accuracy: 0.2676\n",
            "Epoch 7/100\n",
            "501/501 [==============================] - 1s 2ms/step - loss: 1.8993 - accuracy: 0.2482 - val_loss: 1.8931 - val_accuracy: 0.2113\n",
            "Epoch 8/100\n",
            "501/501 [==============================] - 1s 2ms/step - loss: 1.8069 - accuracy: 0.2771 - val_loss: 1.9273 - val_accuracy: 0.2394\n",
            "Epoch 9/100\n",
            "501/501 [==============================] - 1s 2ms/step - loss: 1.8614 - accuracy: 0.2368 - val_loss: 1.8314 - val_accuracy: 0.2394\n",
            "Epoch 10/100\n",
            "501/501 [==============================] - 1s 2ms/step - loss: 1.8613 - accuracy: 0.2138 - val_loss: 1.8905 - val_accuracy: 0.2254\n",
            "Epoch 11/100\n",
            "501/501 [==============================] - 1s 2ms/step - loss: 1.8685 - accuracy: 0.2270 - val_loss: 1.8783 - val_accuracy: 0.1831\n",
            "Epoch 12/100\n",
            "501/501 [==============================] - 1s 1ms/step - loss: 1.8491 - accuracy: 0.2420 - val_loss: 1.7536 - val_accuracy: 0.2676\n",
            "Epoch 13/100\n",
            "501/501 [==============================] - 1s 2ms/step - loss: 1.8782 - accuracy: 0.2281 - val_loss: 1.8837 - val_accuracy: 0.2113\n",
            "Epoch 14/100\n",
            "501/501 [==============================] - 1s 2ms/step - loss: 1.8719 - accuracy: 0.2297 - val_loss: 1.8219 - val_accuracy: 0.2394\n",
            "Epoch 15/100\n",
            "501/501 [==============================] - 1s 2ms/step - loss: 1.8214 - accuracy: 0.2663 - val_loss: 1.8573 - val_accuracy: 0.2113\n",
            "Epoch 16/100\n",
            "501/501 [==============================] - 1s 1ms/step - loss: 1.8225 - accuracy: 0.2698 - val_loss: 1.7710 - val_accuracy: 0.2535\n",
            "Epoch 17/100\n",
            "501/501 [==============================] - 1s 2ms/step - loss: 1.8404 - accuracy: 0.2887 - val_loss: 1.9017 - val_accuracy: 0.2676\n",
            "Epoch 18/100\n",
            "501/501 [==============================] - 1s 1ms/step - loss: 1.8611 - accuracy: 0.2457 - val_loss: 1.8753 - val_accuracy: 0.2254\n",
            "Epoch 19/100\n",
            "501/501 [==============================] - 1s 1ms/step - loss: 1.8586 - accuracy: 0.2742 - val_loss: 1.9100 - val_accuracy: 0.2394\n",
            "Epoch 20/100\n",
            "501/501 [==============================] - 1s 2ms/step - loss: 1.8620 - accuracy: 0.2702 - val_loss: 1.7872 - val_accuracy: 0.2817\n",
            "Epoch 21/100\n",
            "501/501 [==============================] - 1s 2ms/step - loss: 1.8714 - accuracy: 0.2563 - val_loss: 1.8680 - val_accuracy: 0.2958\n",
            "Epoch 22/100\n",
            "501/501 [==============================] - 1s 2ms/step - loss: 1.8179 - accuracy: 0.3158 - val_loss: 1.8424 - val_accuracy: 0.1831\n",
            "Epoch 23/100\n",
            "501/501 [==============================] - 1s 2ms/step - loss: 1.8578 - accuracy: 0.2143 - val_loss: 1.8623 - val_accuracy: 0.2535\n",
            "Epoch 24/100\n",
            "501/501 [==============================] - 1s 1ms/step - loss: 1.8558 - accuracy: 0.2418 - val_loss: 1.8658 - val_accuracy: 0.2817\n",
            "Epoch 25/100\n",
            "501/501 [==============================] - 1s 1ms/step - loss: 1.8357 - accuracy: 0.2341 - val_loss: 1.8957 - val_accuracy: 0.2958\n",
            "Epoch 26/100\n",
            "501/501 [==============================] - 1s 1ms/step - loss: 1.8659 - accuracy: 0.2390 - val_loss: 1.8488 - val_accuracy: 0.2676\n",
            "Epoch 27/100\n",
            "501/501 [==============================] - 1s 2ms/step - loss: 1.8481 - accuracy: 0.2336 - val_loss: 1.9712 - val_accuracy: 0.2676\n",
            "Epoch 28/100\n",
            "501/501 [==============================] - 1s 2ms/step - loss: 1.8596 - accuracy: 0.2262 - val_loss: 1.8148 - val_accuracy: 0.2394\n",
            "Epoch 29/100\n",
            "501/501 [==============================] - 1s 2ms/step - loss: 1.8858 - accuracy: 0.2410 - val_loss: 1.8454 - val_accuracy: 0.2394\n",
            "Epoch 30/100\n",
            "501/501 [==============================] - 1s 1ms/step - loss: 1.8417 - accuracy: 0.2306 - val_loss: 1.8430 - val_accuracy: 0.2676\n",
            "Epoch 31/100\n",
            "501/501 [==============================] - 1s 2ms/step - loss: 1.8521 - accuracy: 0.2375 - val_loss: 1.8777 - val_accuracy: 0.1831\n",
            "Epoch 32/100\n",
            "501/501 [==============================] - 1s 2ms/step - loss: 1.8387 - accuracy: 0.2499 - val_loss: 1.8108 - val_accuracy: 0.3099\n",
            "Epoch 33/100\n",
            "501/501 [==============================] - 1s 2ms/step - loss: 1.8364 - accuracy: 0.2649 - val_loss: 1.7771 - val_accuracy: 0.3239\n",
            "Epoch 34/100\n",
            "501/501 [==============================] - 1s 2ms/step - loss: 1.8881 - accuracy: 0.1996 - val_loss: 1.7785 - val_accuracy: 0.2254\n",
            "Epoch 35/100\n",
            "501/501 [==============================] - 1s 2ms/step - loss: 1.8422 - accuracy: 0.2841 - val_loss: 1.8514 - val_accuracy: 0.1972\n",
            "Epoch 36/100\n",
            "501/501 [==============================] - 1s 2ms/step - loss: 1.8540 - accuracy: 0.2635 - val_loss: 1.8408 - val_accuracy: 0.1831\n",
            "Epoch 37/100\n",
            "501/501 [==============================] - 1s 2ms/step - loss: 1.8292 - accuracy: 0.2526 - val_loss: 1.7848 - val_accuracy: 0.3521\n",
            "Epoch 38/100\n",
            "501/501 [==============================] - 1s 1ms/step - loss: 1.8799 - accuracy: 0.2571 - val_loss: 1.8432 - val_accuracy: 0.2817\n",
            "Epoch 39/100\n",
            "501/501 [==============================] - 1s 1ms/step - loss: 1.8910 - accuracy: 0.2333 - val_loss: 1.8735 - val_accuracy: 0.2113\n",
            "Epoch 40/100\n",
            "501/501 [==============================] - 1s 2ms/step - loss: 1.8590 - accuracy: 0.2695 - val_loss: 1.7120 - val_accuracy: 0.3803\n",
            "Epoch 41/100\n",
            "501/501 [==============================] - 1s 2ms/step - loss: 1.8698 - accuracy: 0.2429 - val_loss: 1.9133 - val_accuracy: 0.2113\n",
            "Epoch 42/100\n",
            "501/501 [==============================] - 1s 2ms/step - loss: 1.8098 - accuracy: 0.2641 - val_loss: 1.7912 - val_accuracy: 0.2817\n",
            "Epoch 43/100\n",
            "501/501 [==============================] - 1s 2ms/step - loss: 1.8048 - accuracy: 0.3141 - val_loss: 1.7491 - val_accuracy: 0.2254\n",
            "Epoch 44/100\n",
            "501/501 [==============================] - 1s 2ms/step - loss: 1.8563 - accuracy: 0.2306 - val_loss: 1.9249 - val_accuracy: 0.1831\n",
            "Epoch 45/100\n",
            "501/501 [==============================] - 1s 2ms/step - loss: 1.8576 - accuracy: 0.2214 - val_loss: 1.8090 - val_accuracy: 0.1972\n",
            "Epoch 46/100\n",
            "501/501 [==============================] - 1s 2ms/step - loss: 1.8278 - accuracy: 0.2968 - val_loss: 1.8434 - val_accuracy: 0.2958\n",
            "Epoch 47/100\n",
            "501/501 [==============================] - 1s 2ms/step - loss: 1.8535 - accuracy: 0.2404 - val_loss: 1.7806 - val_accuracy: 0.3521\n",
            "Epoch 48/100\n",
            "501/501 [==============================] - 1s 2ms/step - loss: 1.8634 - accuracy: 0.2316 - val_loss: 1.8369 - val_accuracy: 0.2254\n",
            "Epoch 49/100\n",
            "501/501 [==============================] - 1s 2ms/step - loss: 1.8505 - accuracy: 0.2735 - val_loss: 1.8003 - val_accuracy: 0.2676\n",
            "Epoch 50/100\n",
            "501/501 [==============================] - 1s 2ms/step - loss: 1.8525 - accuracy: 0.2715 - val_loss: 1.8835 - val_accuracy: 0.1972\n",
            "Epoch 51/100\n",
            "501/501 [==============================] - 1s 2ms/step - loss: 1.8434 - accuracy: 0.2277 - val_loss: 1.8466 - val_accuracy: 0.2676\n",
            "Epoch 52/100\n",
            "501/501 [==============================] - 1s 2ms/step - loss: 1.8419 - accuracy: 0.2676 - val_loss: 1.8645 - val_accuracy: 0.2676\n",
            "Epoch 53/100\n",
            "501/501 [==============================] - 1s 2ms/step - loss: 1.8670 - accuracy: 0.2727 - val_loss: 1.9180 - val_accuracy: 0.1549\n",
            "Epoch 54/100\n",
            "501/501 [==============================] - 1s 2ms/step - loss: 1.8492 - accuracy: 0.2782 - val_loss: 1.8812 - val_accuracy: 0.1831\n",
            "Epoch 55/100\n",
            "501/501 [==============================] - 1s 2ms/step - loss: 1.8608 - accuracy: 0.2692 - val_loss: 1.9665 - val_accuracy: 0.1831\n",
            "Epoch 56/100\n",
            "501/501 [==============================] - 1s 2ms/step - loss: 1.8456 - accuracy: 0.2667 - val_loss: 1.8535 - val_accuracy: 0.2254\n",
            "Epoch 57/100\n",
            "501/501 [==============================] - 1s 2ms/step - loss: 1.8974 - accuracy: 0.2335 - val_loss: 1.8861 - val_accuracy: 0.2113\n",
            "Epoch 58/100\n",
            "501/501 [==============================] - 1s 2ms/step - loss: 1.8568 - accuracy: 0.2581 - val_loss: 1.8475 - val_accuracy: 0.2817\n",
            "Epoch 59/100\n",
            "501/501 [==============================] - 1s 2ms/step - loss: 1.8456 - accuracy: 0.2360 - val_loss: 1.8861 - val_accuracy: 0.2535\n",
            "Epoch 60/100\n",
            "501/501 [==============================] - 1s 2ms/step - loss: 1.8628 - accuracy: 0.2076 - val_loss: 1.8803 - val_accuracy: 0.2958\n",
            "Epoch 61/100\n",
            "501/501 [==============================] - 1s 2ms/step - loss: 1.8687 - accuracy: 0.2334 - val_loss: 1.7795 - val_accuracy: 0.2817\n",
            "Epoch 62/100\n",
            "501/501 [==============================] - 1s 2ms/step - loss: 1.8774 - accuracy: 0.2402 - val_loss: 1.9003 - val_accuracy: 0.2254\n",
            "Epoch 63/100\n",
            "501/501 [==============================] - 1s 2ms/step - loss: 1.8527 - accuracy: 0.2487 - val_loss: 1.7811 - val_accuracy: 0.3380\n",
            "Epoch 64/100\n",
            "501/501 [==============================] - 1s 2ms/step - loss: 1.8990 - accuracy: 0.2391 - val_loss: 1.8589 - val_accuracy: 0.3099\n",
            "Epoch 65/100\n",
            "501/501 [==============================] - 1s 2ms/step - loss: 1.8148 - accuracy: 0.2894 - val_loss: 1.8699 - val_accuracy: 0.2394\n",
            "Epoch 66/100\n",
            "501/501 [==============================] - 1s 1ms/step - loss: 1.8620 - accuracy: 0.2380 - val_loss: 1.7160 - val_accuracy: 0.3099\n",
            "Epoch 67/100\n",
            "501/501 [==============================] - 1s 2ms/step - loss: 1.8574 - accuracy: 0.2446 - val_loss: 1.8497 - val_accuracy: 0.2394\n",
            "Epoch 68/100\n",
            "501/501 [==============================] - 1s 2ms/step - loss: 1.8786 - accuracy: 0.2489 - val_loss: 1.8823 - val_accuracy: 0.1549\n",
            "Epoch 69/100\n",
            "501/501 [==============================] - 1s 2ms/step - loss: 1.8536 - accuracy: 0.2638 - val_loss: 1.9263 - val_accuracy: 0.1831\n",
            "Epoch 70/100\n",
            "501/501 [==============================] - 1s 2ms/step - loss: 1.8825 - accuracy: 0.2799 - val_loss: 1.9101 - val_accuracy: 0.2113\n",
            "Epoch 71/100\n",
            "501/501 [==============================] - 1s 2ms/step - loss: 1.8159 - accuracy: 0.2653 - val_loss: 1.9057 - val_accuracy: 0.2113\n",
            "Epoch 72/100\n",
            "501/501 [==============================] - 1s 2ms/step - loss: 1.8427 - accuracy: 0.2441 - val_loss: 1.8401 - val_accuracy: 0.3099\n",
            "Epoch 73/100\n",
            "501/501 [==============================] - 1s 2ms/step - loss: 1.8549 - accuracy: 0.2489 - val_loss: 1.8648 - val_accuracy: 0.2676\n",
            "Epoch 74/100\n",
            "501/501 [==============================] - 1s 2ms/step - loss: 1.8548 - accuracy: 0.2585 - val_loss: 1.7548 - val_accuracy: 0.3099\n",
            "Epoch 75/100\n",
            "501/501 [==============================] - 1s 2ms/step - loss: 1.8474 - accuracy: 0.2463 - val_loss: 1.8296 - val_accuracy: 0.2676\n",
            "Epoch 76/100\n",
            "501/501 [==============================] - 1s 2ms/step - loss: 1.8424 - accuracy: 0.2595 - val_loss: 1.8943 - val_accuracy: 0.2535\n",
            "Epoch 77/100\n",
            "501/501 [==============================] - 1s 2ms/step - loss: 1.8479 - accuracy: 0.2341 - val_loss: 1.8552 - val_accuracy: 0.1972\n",
            "Epoch 78/100\n",
            "501/501 [==============================] - 1s 2ms/step - loss: 1.8606 - accuracy: 0.2564 - val_loss: 1.9017 - val_accuracy: 0.2676\n",
            "Epoch 79/100\n",
            "501/501 [==============================] - 1s 2ms/step - loss: 1.8393 - accuracy: 0.2691 - val_loss: 1.8603 - val_accuracy: 0.2817\n",
            "Epoch 80/100\n",
            "501/501 [==============================] - 1s 2ms/step - loss: 1.8286 - accuracy: 0.2599 - val_loss: 1.8322 - val_accuracy: 0.3380\n",
            "Epoch 81/100\n",
            "501/501 [==============================] - 1s 2ms/step - loss: 1.8420 - accuracy: 0.2809 - val_loss: 1.9208 - val_accuracy: 0.2113\n",
            "Epoch 82/100\n",
            "501/501 [==============================] - 1s 2ms/step - loss: 1.8661 - accuracy: 0.2309 - val_loss: 1.8998 - val_accuracy: 0.2535\n",
            "Epoch 83/100\n",
            "501/501 [==============================] - 1s 2ms/step - loss: 1.8152 - accuracy: 0.2860 - val_loss: 1.8219 - val_accuracy: 0.3803\n",
            "Epoch 84/100\n",
            "501/501 [==============================] - 1s 2ms/step - loss: 1.8230 - accuracy: 0.2828 - val_loss: 1.8193 - val_accuracy: 0.2676\n",
            "Epoch 85/100\n",
            "501/501 [==============================] - 1s 1ms/step - loss: 1.8698 - accuracy: 0.2433 - val_loss: 1.7670 - val_accuracy: 0.2958\n",
            "Epoch 86/100\n",
            "501/501 [==============================] - 1s 2ms/step - loss: 1.8839 - accuracy: 0.2158 - val_loss: 1.7889 - val_accuracy: 0.3803\n",
            "Epoch 87/100\n",
            "501/501 [==============================] - 1s 2ms/step - loss: 1.8369 - accuracy: 0.2640 - val_loss: 1.8188 - val_accuracy: 0.2958\n",
            "Epoch 88/100\n",
            "501/501 [==============================] - 1s 1ms/step - loss: 1.8800 - accuracy: 0.2385 - val_loss: 1.9464 - val_accuracy: 0.2113\n",
            "Epoch 89/100\n",
            "501/501 [==============================] - 1s 2ms/step - loss: 1.8650 - accuracy: 0.2527 - val_loss: 1.9142 - val_accuracy: 0.2113\n",
            "Epoch 90/100\n",
            "501/501 [==============================] - 1s 1ms/step - loss: 1.8491 - accuracy: 0.2486 - val_loss: 1.9251 - val_accuracy: 0.2535\n",
            "Epoch 91/100\n",
            "501/501 [==============================] - 1s 1ms/step - loss: 1.8328 - accuracy: 0.2793 - val_loss: 1.7945 - val_accuracy: 0.3239\n",
            "Epoch 92/100\n",
            "501/501 [==============================] - 1s 2ms/step - loss: 1.8356 - accuracy: 0.2832 - val_loss: 1.8441 - val_accuracy: 0.2394\n",
            "Epoch 93/100\n",
            "501/501 [==============================] - 1s 2ms/step - loss: 1.8382 - accuracy: 0.2887 - val_loss: 1.7761 - val_accuracy: 0.3099\n",
            "Epoch 94/100\n",
            "501/501 [==============================] - 1s 2ms/step - loss: 1.8570 - accuracy: 0.2483 - val_loss: 1.8156 - val_accuracy: 0.2817\n",
            "Epoch 95/100\n",
            "501/501 [==============================] - 1s 2ms/step - loss: 1.9121 - accuracy: 0.1978 - val_loss: 1.9145 - val_accuracy: 0.2113\n",
            "Epoch 96/100\n",
            "501/501 [==============================] - 1s 2ms/step - loss: 1.8219 - accuracy: 0.2508 - val_loss: 1.8859 - val_accuracy: 0.2676\n",
            "Epoch 97/100\n",
            "501/501 [==============================] - 1s 2ms/step - loss: 1.8482 - accuracy: 0.2509 - val_loss: 1.8671 - val_accuracy: 0.2958\n",
            "Epoch 98/100\n",
            "501/501 [==============================] - 1s 1ms/step - loss: 1.8648 - accuracy: 0.2285 - val_loss: 1.7829 - val_accuracy: 0.2254\n",
            "Epoch 99/100\n",
            "501/501 [==============================] - 1s 1ms/step - loss: 1.8380 - accuracy: 0.2617 - val_loss: 1.9545 - val_accuracy: 0.1831\n",
            "Epoch 100/100\n",
            "501/501 [==============================] - 1s 2ms/step - loss: 1.8686 - accuracy: 0.2661 - val_loss: 1.8655 - val_accuracy: 0.2817\n"
          ]
        }
      ]
    },
    {
      "cell_type": "code",
      "metadata": {
        "colab": {
          "base_uri": "https://localhost:8080/"
        },
        "id": "yb46vkB14utk",
        "outputId": "032e3899-bc5c-41c2-ffb5-78c0b81f1266"
      },
      "source": [
        "model.predict(test_vec)[1]"
      ],
      "execution_count": 10,
      "outputs": [
        {
          "output_type": "execute_result",
          "data": {
            "text/plain": [
              "array([ 0.4438982 ,  0.652145  , -0.19849624, -0.1767536 ,  0.10216334,\n",
              "        0.35770565, -0.8556144 , -4.3495827 ], dtype=float32)"
            ]
          },
          "metadata": {},
          "execution_count": 10
        }
      ]
    },
    {
      "cell_type": "code",
      "execution_count": 11,
      "metadata": {},
      "outputs": [
        {
          "output_type": "stream",
          "name": "stdout",
          "text": [
            "145/145 [==============================] - 0s 942us/step - loss: 1.8513 - accuracy: 0.2483\n"
          ]
        },
        {
          "output_type": "execute_result",
          "data": {
            "text/plain": [
              "[1.8512661457061768, 0.24827586114406586]"
            ]
          },
          "metadata": {},
          "execution_count": 11
        }
      ],
      "source": [
        "model.evaluate(test_vec)"
      ]
    },
    {
      "cell_type": "code",
      "execution_count": 12,
      "metadata": {},
      "outputs": [],
      "source": [
        "model.save_weights('./checkpoint/my_checkpoint_10')"
      ]
    },
    {
      "cell_type": "code",
      "execution_count": null,
      "metadata": {},
      "outputs": [],
      "source": []
    }
  ]
}