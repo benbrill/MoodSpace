{
  "nbformat": 4,
  "nbformat_minor": 0,
  "metadata": {
    "colab": {
      "name": "tfLyricClassifcation.ipynb",
      "provenance": [],
      "authorship_tag": "ABX9TyO4n0KZpbZINvFVaDbqU/Dq"
    },
    "kernelspec": {
      "name": "pythonjvsc74a57bd063a8339a2b998405504b80cac15dbfc0480b6c1c806e16474572f1b40b735ee0",
      "display_name": "Python 3.9.5 64-bit ('env': venv)"
    },
    "language_info": {
      "name": "python",
      "version": "3.9.5"
    },
    "accelerator": "GPU",
    "metadata": {
      "interpreter": {
        "hash": "63a8339a2b998405504b80cac15dbfc0480b6c1c806e16474572f1b40b735ee0"
      }
    }
  },
  "cells": [
    {
      "cell_type": "code",
      "metadata": {
        "id": "7Gimym_e08Xr"
      },
      "source": [
        "import numpy as np\n",
        "import pandas as pd\n",
        "import tensorflow as tf\n",
        "import re\n",
        "import string\n",
        "\n",
        "from tensorflow.keras import layers\n",
        "from tensorflow.keras import losses\n",
        "\n",
        "# requires update to tensorflow 2.4\n",
        "# >>> conda activate PIC16B\n",
        "# >>> pip install tensorflow==2.4\n",
        "from tensorflow.keras.layers.experimental.preprocessing import TextVectorization\n",
        "from tensorflow.keras.layers.experimental.preprocessing import StringLookup\n",
        "\n",
        "from sklearn.model_selection import train_test_split\n",
        "from sklearn.preprocessing import LabelEncoder"
      ],
      "execution_count": 1,
      "outputs": []
    },
    {
      "source": [
        "# Import Data"
      ],
      "cell_type": "markdown",
      "metadata": {}
    },
    {
      "cell_type": "code",
      "metadata": {
        "colab": {
          "base_uri": "https://localhost:8080/",
          "height": 1000
        },
        "id": "xjv0ShaR1GO1",
        "outputId": "c8471504-b3ab-47c0-bd90-77a9502eb244"
      },
      "source": [
        "df = pd.read_csv(\"https://raw.githubusercontent.com/benbrill/MoodSpace/main/data/trainingSongs_clean.csv\")\n",
        "df.head()"
      ],
      "execution_count": 2,
      "outputs": [
        {
          "output_type": "execute_result",
          "data": {
            "text/plain": [
              "   Unnamed: 0                        trackName          artist  \\\n",
              "0           3                      Overthinker            INZO   \n",
              "1           4  Lifestyles of the Rich & Famous  Good Charlotte   \n",
              "2           6       Carrying Your Love With Me   George Strait   \n",
              "3           7                Check Yes, Juliet    We The Kings   \n",
              "4           8      At My Worst (feat. Kehlani)     Pink Sweat$   \n",
              "\n",
              "                       id  danceability  energy   key  loudness  mode  \\\n",
              "0  4K9xid96G3YmIvQZXN9SXg         0.472   0.605   8.0    -4.437   1.0   \n",
              "1  2g2a5kDeZexbUTD8abcvm6         0.620   0.930   1.0    -3.685   1.0   \n",
              "2  7puxIVNdj5nsBJk43zM3bH         0.629   0.479  10.0   -10.608   1.0   \n",
              "3  0wVluBsVAVzBKrqspuCcwR         0.352   0.912   7.0    -4.253   1.0   \n",
              "4  58w68w4s8h9gw3xrDaXyuj         0.731   0.484   0.0    -5.579   1.0   \n",
              "\n",
              "   speechiness  acousticness  instrumentalness  liveness  valence    tempo  \\\n",
              "0       0.1340       0.03110          0.030800    0.1010    0.212  128.375   \n",
              "1       0.0374       0.00043          0.000000    0.0686    0.609  106.220   \n",
              "2       0.0271       0.22000          0.000000    0.0587    0.345  138.231   \n",
              "3       0.0725       0.00197          0.000000    0.1930    0.351  166.795   \n",
              "4       0.0354       0.73000          0.000003    0.3260    0.350   92.043   \n",
              "\n",
              "             type                                             lyrics  cluster  \\\n",
              "0  audio_features  a person who thinks all the time has nothing t...        0   \n",
              "1  audio_features  always see it on t v or read in the magazines ...        3   \n",
              "2  audio_features  baby all i got is this beat up leather bag and...        5   \n",
              "3  audio_features  check yes juliet are you with me rain is falli...        2   \n",
              "4  audio_features  can i call you baby can you be my friend can y...        1   \n",
              "\n",
              "  language  \n",
              "0       en  \n",
              "1       en  \n",
              "2       en  \n",
              "3       en  \n",
              "4       en  "
            ],
            "text/html": "<div>\n<style scoped>\n    .dataframe tbody tr th:only-of-type {\n        vertical-align: middle;\n    }\n\n    .dataframe tbody tr th {\n        vertical-align: top;\n    }\n\n    .dataframe thead th {\n        text-align: right;\n    }\n</style>\n<table border=\"1\" class=\"dataframe\">\n  <thead>\n    <tr style=\"text-align: right;\">\n      <th></th>\n      <th>Unnamed: 0</th>\n      <th>trackName</th>\n      <th>artist</th>\n      <th>id</th>\n      <th>danceability</th>\n      <th>energy</th>\n      <th>key</th>\n      <th>loudness</th>\n      <th>mode</th>\n      <th>speechiness</th>\n      <th>acousticness</th>\n      <th>instrumentalness</th>\n      <th>liveness</th>\n      <th>valence</th>\n      <th>tempo</th>\n      <th>type</th>\n      <th>lyrics</th>\n      <th>cluster</th>\n      <th>language</th>\n    </tr>\n  </thead>\n  <tbody>\n    <tr>\n      <th>0</th>\n      <td>3</td>\n      <td>Overthinker</td>\n      <td>INZO</td>\n      <td>4K9xid96G3YmIvQZXN9SXg</td>\n      <td>0.472</td>\n      <td>0.605</td>\n      <td>8.0</td>\n      <td>-4.437</td>\n      <td>1.0</td>\n      <td>0.1340</td>\n      <td>0.03110</td>\n      <td>0.030800</td>\n      <td>0.1010</td>\n      <td>0.212</td>\n      <td>128.375</td>\n      <td>audio_features</td>\n      <td>a person who thinks all the time has nothing t...</td>\n      <td>0</td>\n      <td>en</td>\n    </tr>\n    <tr>\n      <th>1</th>\n      <td>4</td>\n      <td>Lifestyles of the Rich &amp; Famous</td>\n      <td>Good Charlotte</td>\n      <td>2g2a5kDeZexbUTD8abcvm6</td>\n      <td>0.620</td>\n      <td>0.930</td>\n      <td>1.0</td>\n      <td>-3.685</td>\n      <td>1.0</td>\n      <td>0.0374</td>\n      <td>0.00043</td>\n      <td>0.000000</td>\n      <td>0.0686</td>\n      <td>0.609</td>\n      <td>106.220</td>\n      <td>audio_features</td>\n      <td>always see it on t v or read in the magazines ...</td>\n      <td>3</td>\n      <td>en</td>\n    </tr>\n    <tr>\n      <th>2</th>\n      <td>6</td>\n      <td>Carrying Your Love With Me</td>\n      <td>George Strait</td>\n      <td>7puxIVNdj5nsBJk43zM3bH</td>\n      <td>0.629</td>\n      <td>0.479</td>\n      <td>10.0</td>\n      <td>-10.608</td>\n      <td>1.0</td>\n      <td>0.0271</td>\n      <td>0.22000</td>\n      <td>0.000000</td>\n      <td>0.0587</td>\n      <td>0.345</td>\n      <td>138.231</td>\n      <td>audio_features</td>\n      <td>baby all i got is this beat up leather bag and...</td>\n      <td>5</td>\n      <td>en</td>\n    </tr>\n    <tr>\n      <th>3</th>\n      <td>7</td>\n      <td>Check Yes, Juliet</td>\n      <td>We The Kings</td>\n      <td>0wVluBsVAVzBKrqspuCcwR</td>\n      <td>0.352</td>\n      <td>0.912</td>\n      <td>7.0</td>\n      <td>-4.253</td>\n      <td>1.0</td>\n      <td>0.0725</td>\n      <td>0.00197</td>\n      <td>0.000000</td>\n      <td>0.1930</td>\n      <td>0.351</td>\n      <td>166.795</td>\n      <td>audio_features</td>\n      <td>check yes juliet are you with me rain is falli...</td>\n      <td>2</td>\n      <td>en</td>\n    </tr>\n    <tr>\n      <th>4</th>\n      <td>8</td>\n      <td>At My Worst (feat. Kehlani)</td>\n      <td>Pink Sweat$</td>\n      <td>58w68w4s8h9gw3xrDaXyuj</td>\n      <td>0.731</td>\n      <td>0.484</td>\n      <td>0.0</td>\n      <td>-5.579</td>\n      <td>1.0</td>\n      <td>0.0354</td>\n      <td>0.73000</td>\n      <td>0.000003</td>\n      <td>0.3260</td>\n      <td>0.350</td>\n      <td>92.043</td>\n      <td>audio_features</td>\n      <td>can i call you baby can you be my friend can y...</td>\n      <td>1</td>\n      <td>en</td>\n    </tr>\n  </tbody>\n</table>\n</div>"
          },
          "metadata": {},
          "execution_count": 2
        }
      ]
    },
    {
      "source": [
        "# Create Text Vectorization"
      ],
      "cell_type": "markdown",
      "metadata": {}
    },
    {
      "cell_type": "code",
      "metadata": {
        "id": "oDTSMbEC2Szp"
      },
      "source": [
        "max_tokens = 200\n",
        "sequence_length = 500\n",
        "\n",
        "vectorize_layer = TextVectorization(\n",
        "    max_tokens=max_tokens, # only consider this many words\n",
        "    output_mode='int',\n",
        "    output_sequence_length=sequence_length) "
      ],
      "execution_count": 3,
      "outputs": []
    },
    {
      "cell_type": "code",
      "metadata": {
        "id": "3W_PQpzv2W2E"
      },
      "source": [
        "data = tf.data.Dataset.from_tensor_slices((df[\"lyrics\"], df[\"cluster\"]))"
      ],
      "execution_count": 5,
      "outputs": []
    },
    {
      "cell_type": "code",
      "metadata": {
        "colab": {
          "base_uri": "https://localhost:8080/"
        },
        "id": "nbmJ12El3UdI",
        "outputId": "aaf33015-32d9-4051-800a-0dc7472d198e"
      },
      "source": [
        "data = data.shuffle(buffer_size = len(data))\n",
        "\n",
        "train_size = int(0.7*len(data))\n",
        "val_size   = int(0.1*len(data))\n",
        "\n",
        "\n",
        "train = data.take(train_size)\n",
        "val   = data.skip(train_size).take(val_size)\n",
        "test  = data.skip(train_size + val_size)\n",
        "lyrics = train.map(lambda x, y: x)\n",
        "vectorize_layer.adapt(lyrics)\n",
        "len(train), len(val), len(test)"
      ],
      "execution_count": 8,
      "outputs": [
        {
          "output_type": "execute_result",
          "data": {
            "text/plain": [
              "(501, 71, 145)"
            ]
          },
          "metadata": {},
          "execution_count": 8
        }
      ]
    },
    {
      "cell_type": "code",
      "metadata": {
        "id": "Xft9VRhW40BB"
      },
      "source": [
        "def vectorize_movie_script(text, label):\n",
        "    text = tf.expand_dims(text, -1)\n",
        "    return vectorize_layer(text), [label]\n",
        "\n",
        "train_vec = train.map(vectorize_movie_script)\n",
        "val_vec   = val.map(vectorize_movie_script)\n",
        "test_vec  = test.map(vectorize_movie_script)"
      ],
      "execution_count": 9,
      "outputs": []
    },
    {
      "source": [
        "# Create Model"
      ],
      "cell_type": "markdown",
      "metadata": {}
    },
    {
      "cell_type": "code",
      "metadata": {
        "id": "6NTNTIBe4dST"
      },
      "source": [
        "model = tf.keras.Sequential([\n",
        "  layers.Embedding(max_tokens, output_dim = 10, name=\"embedding\"),\n",
        "  layers.Dropout(0.2),\n",
        "  layers.GlobalAveragePooling1D(),\n",
        "  layers.Dropout(0.2),\n",
        "  layers.Dense(8)]\n",
        ")"
      ],
      "execution_count": 10,
      "outputs": []
    },
    {
      "cell_type": "code",
      "metadata": {
        "id": "QBvK_cSd4iNS"
      },
      "source": [
        "model.compile(loss=losses.SparseCategoricalCrossentropy(from_logits=True),\n",
        "              optimizer='adam', \n",
        "              metrics=['accuracy'])"
      ],
      "execution_count": 11,
      "outputs": []
    },
    {
      "cell_type": "code",
      "metadata": {
        "colab": {
          "base_uri": "https://localhost:8080/"
        },
        "id": "EOvPCjkg4oD4",
        "outputId": "90aca939-e584-40bb-e647-84aab7ab9192"
      },
      "source": [
        "history = model.fit(train_vec, epochs = 100, validation_data = val_vec)"
      ],
      "execution_count": 12,
      "outputs": [
        {
          "output_type": "stream",
          "name": "stdout",
          "text": [
            "Epoch 1/100\n",
            "501/501 [==============================] - 3s 4ms/step - loss: 2.0156 - accuracy: 0.2016 - val_loss: 1.9485 - val_accuracy: 0.2254\n",
            "Epoch 2/100\n",
            "501/501 [==============================] - 2s 4ms/step - loss: 1.9246 - accuracy: 0.2275 - val_loss: 1.8407 - val_accuracy: 0.3662\n",
            "Epoch 3/100\n",
            "501/501 [==============================] - 2s 4ms/step - loss: 1.9076 - accuracy: 0.2275 - val_loss: 1.9035 - val_accuracy: 0.2535\n",
            "Epoch 4/100\n",
            "501/501 [==============================] - 2s 4ms/step - loss: 1.8870 - accuracy: 0.2315 - val_loss: 1.7742 - val_accuracy: 0.2676\n",
            "Epoch 5/100\n",
            "501/501 [==============================] - 2s 4ms/step - loss: 1.8852 - accuracy: 0.2395 - val_loss: 1.9123 - val_accuracy: 0.1972\n",
            "Epoch 6/100\n",
            "501/501 [==============================] - 2s 4ms/step - loss: 1.8468 - accuracy: 0.2575 - val_loss: 1.8062 - val_accuracy: 0.2817\n",
            "Epoch 7/100\n",
            "501/501 [==============================] - 2s 4ms/step - loss: 1.8432 - accuracy: 0.2715 - val_loss: 1.7931 - val_accuracy: 0.3380\n",
            "Epoch 8/100\n",
            "501/501 [==============================] - 2s 4ms/step - loss: 1.8721 - accuracy: 0.2475 - val_loss: 1.8483 - val_accuracy: 0.2676\n",
            "Epoch 9/100\n",
            "501/501 [==============================] - 2s 4ms/step - loss: 1.8347 - accuracy: 0.2715 - val_loss: 1.8082 - val_accuracy: 0.2254\n",
            "Epoch 10/100\n",
            "501/501 [==============================] - 2s 4ms/step - loss: 1.8471 - accuracy: 0.2575 - val_loss: 1.8557 - val_accuracy: 0.2254\n",
            "Epoch 11/100\n",
            "501/501 [==============================] - 2s 4ms/step - loss: 1.8329 - accuracy: 0.2575 - val_loss: 1.8811 - val_accuracy: 0.2113\n",
            "Epoch 12/100\n",
            "501/501 [==============================] - 2s 5ms/step - loss: 1.8371 - accuracy: 0.2715 - val_loss: 1.7800 - val_accuracy: 0.2817\n",
            "Epoch 13/100\n",
            "501/501 [==============================] - 2s 4ms/step - loss: 1.8543 - accuracy: 0.2535 - val_loss: 1.8539 - val_accuracy: 0.2817\n",
            "Epoch 14/100\n",
            "501/501 [==============================] - 2s 5ms/step - loss: 1.8372 - accuracy: 0.2595 - val_loss: 1.7310 - val_accuracy: 0.3380\n",
            "Epoch 15/100\n",
            "501/501 [==============================] - 6s 11ms/step - loss: 1.8184 - accuracy: 0.2675 - val_loss: 1.8469 - val_accuracy: 0.2817\n",
            "Epoch 16/100\n",
            "501/501 [==============================] - 4s 8ms/step - loss: 1.8182 - accuracy: 0.2774 - val_loss: 1.7901 - val_accuracy: 0.2958\n",
            "Epoch 17/100\n",
            "501/501 [==============================] - 4s 8ms/step - loss: 1.8342 - accuracy: 0.2695 - val_loss: 1.7751 - val_accuracy: 0.2958\n",
            "Epoch 18/100\n",
            "501/501 [==============================] - 3s 5ms/step - loss: 1.8218 - accuracy: 0.2655 - val_loss: 1.7267 - val_accuracy: 0.3662\n",
            "Epoch 19/100\n",
            "501/501 [==============================] - 3s 6ms/step - loss: 1.8062 - accuracy: 0.2974 - val_loss: 1.8620 - val_accuracy: 0.1690\n",
            "Epoch 20/100\n",
            "501/501 [==============================] - 2s 5ms/step - loss: 1.8012 - accuracy: 0.2675 - val_loss: 1.7520 - val_accuracy: 0.2958\n",
            "Epoch 21/100\n",
            "501/501 [==============================] - 3s 6ms/step - loss: 1.8199 - accuracy: 0.2774 - val_loss: 1.7414 - val_accuracy: 0.3099\n",
            "Epoch 22/100\n",
            "501/501 [==============================] - 3s 6ms/step - loss: 1.7962 - accuracy: 0.2854 - val_loss: 1.8667 - val_accuracy: 0.1972\n",
            "Epoch 23/100\n",
            "501/501 [==============================] - 3s 6ms/step - loss: 1.7894 - accuracy: 0.2754 - val_loss: 1.7169 - val_accuracy: 0.3380\n",
            "Epoch 24/100\n",
            "501/501 [==============================] - 3s 7ms/step - loss: 1.7901 - accuracy: 0.2834 - val_loss: 1.7295 - val_accuracy: 0.3239\n",
            "Epoch 25/100\n",
            "501/501 [==============================] - 4s 7ms/step - loss: 1.8037 - accuracy: 0.2894 - val_loss: 1.7288 - val_accuracy: 0.3239\n",
            "Epoch 26/100\n",
            "501/501 [==============================] - 3s 7ms/step - loss: 1.7877 - accuracy: 0.2814 - val_loss: 1.7074 - val_accuracy: 0.3099\n",
            "Epoch 27/100\n",
            "501/501 [==============================] - 2s 4ms/step - loss: 1.7738 - accuracy: 0.2994 - val_loss: 1.7967 - val_accuracy: 0.3521\n",
            "Epoch 28/100\n",
            "501/501 [==============================] - 2s 5ms/step - loss: 1.8016 - accuracy: 0.2595 - val_loss: 1.7878 - val_accuracy: 0.2958\n",
            "Epoch 29/100\n",
            "501/501 [==============================] - 2s 4ms/step - loss: 1.7635 - accuracy: 0.3074 - val_loss: 1.7646 - val_accuracy: 0.2676\n",
            "Epoch 30/100\n",
            "501/501 [==============================] - 2s 5ms/step - loss: 1.7585 - accuracy: 0.2994 - val_loss: 1.7845 - val_accuracy: 0.2535\n",
            "Epoch 31/100\n",
            "501/501 [==============================] - 2s 4ms/step - loss: 1.7485 - accuracy: 0.2954 - val_loss: 1.7096 - val_accuracy: 0.3239\n",
            "Epoch 32/100\n",
            "501/501 [==============================] - 2s 5ms/step - loss: 1.7624 - accuracy: 0.2954 - val_loss: 1.7229 - val_accuracy: 0.3803\n",
            "Epoch 33/100\n",
            "501/501 [==============================] - 2s 4ms/step - loss: 1.7548 - accuracy: 0.3114 - val_loss: 1.8215 - val_accuracy: 0.2394\n",
            "Epoch 34/100\n",
            "501/501 [==============================] - 2s 4ms/step - loss: 1.7399 - accuracy: 0.3054 - val_loss: 1.6271 - val_accuracy: 0.3521\n",
            "Epoch 35/100\n",
            "501/501 [==============================] - 2s 4ms/step - loss: 1.7400 - accuracy: 0.3074 - val_loss: 1.6750 - val_accuracy: 0.3662\n",
            "Epoch 36/100\n",
            "501/501 [==============================] - 3s 6ms/step - loss: 1.7457 - accuracy: 0.3014 - val_loss: 1.7484 - val_accuracy: 0.2958\n",
            "Epoch 37/100\n",
            "501/501 [==============================] - 3s 5ms/step - loss: 1.7122 - accuracy: 0.3273 - val_loss: 1.6170 - val_accuracy: 0.3662\n",
            "Epoch 38/100\n",
            "501/501 [==============================] - 2s 5ms/step - loss: 1.7377 - accuracy: 0.3134 - val_loss: 1.6644 - val_accuracy: 0.3099\n",
            "Epoch 39/100\n",
            "501/501 [==============================] - 2s 5ms/step - loss: 1.7282 - accuracy: 0.3293 - val_loss: 1.6966 - val_accuracy: 0.4085\n",
            "Epoch 40/100\n",
            "501/501 [==============================] - 2s 5ms/step - loss: 1.7255 - accuracy: 0.2954 - val_loss: 1.6599 - val_accuracy: 0.3662\n",
            "Epoch 41/100\n",
            "501/501 [==============================] - 2s 4ms/step - loss: 1.7093 - accuracy: 0.3393 - val_loss: 1.7053 - val_accuracy: 0.3239\n",
            "Epoch 42/100\n",
            "501/501 [==============================] - 2s 5ms/step - loss: 1.7130 - accuracy: 0.3413 - val_loss: 1.7761 - val_accuracy: 0.2676\n",
            "Epoch 43/100\n",
            "501/501 [==============================] - 2s 5ms/step - loss: 1.6957 - accuracy: 0.3433 - val_loss: 1.7428 - val_accuracy: 0.3803\n",
            "Epoch 44/100\n",
            "501/501 [==============================] - 2s 4ms/step - loss: 1.6684 - accuracy: 0.3453 - val_loss: 1.7126 - val_accuracy: 0.3521\n",
            "Epoch 45/100\n",
            "501/501 [==============================] - 2s 5ms/step - loss: 1.6863 - accuracy: 0.3673 - val_loss: 1.6274 - val_accuracy: 0.3239\n",
            "Epoch 46/100\n",
            "501/501 [==============================] - 2s 5ms/step - loss: 1.6672 - accuracy: 0.3353 - val_loss: 1.7093 - val_accuracy: 0.2676\n",
            "Epoch 47/100\n",
            "501/501 [==============================] - 2s 5ms/step - loss: 1.6627 - accuracy: 0.3553 - val_loss: 1.6028 - val_accuracy: 0.3944\n",
            "Epoch 48/100\n",
            "501/501 [==============================] - 2s 5ms/step - loss: 1.6554 - accuracy: 0.3513 - val_loss: 1.5801 - val_accuracy: 0.4085\n",
            "Epoch 49/100\n",
            "501/501 [==============================] - 2s 5ms/step - loss: 1.6666 - accuracy: 0.3453 - val_loss: 1.6655 - val_accuracy: 0.3662\n",
            "Epoch 50/100\n",
            "501/501 [==============================] - 2s 5ms/step - loss: 1.6530 - accuracy: 0.3573 - val_loss: 1.7112 - val_accuracy: 0.2676\n",
            "Epoch 51/100\n",
            "501/501 [==============================] - 2s 5ms/step - loss: 1.6499 - accuracy: 0.3772 - val_loss: 1.5412 - val_accuracy: 0.4085\n",
            "Epoch 52/100\n",
            "501/501 [==============================] - 2s 5ms/step - loss: 1.6332 - accuracy: 0.3693 - val_loss: 1.6800 - val_accuracy: 0.3239\n",
            "Epoch 53/100\n",
            "501/501 [==============================] - 2s 5ms/step - loss: 1.6233 - accuracy: 0.3852 - val_loss: 1.6831 - val_accuracy: 0.3521\n",
            "Epoch 54/100\n",
            "501/501 [==============================] - 2s 4ms/step - loss: 1.6095 - accuracy: 0.3872 - val_loss: 1.6909 - val_accuracy: 0.3521\n",
            "Epoch 55/100\n",
            "501/501 [==============================] - 3s 5ms/step - loss: 1.5988 - accuracy: 0.3852 - val_loss: 1.6262 - val_accuracy: 0.3521\n",
            "Epoch 56/100\n",
            "501/501 [==============================] - 2s 5ms/step - loss: 1.6055 - accuracy: 0.3673 - val_loss: 1.5709 - val_accuracy: 0.3803\n",
            "Epoch 57/100\n",
            "501/501 [==============================] - 2s 5ms/step - loss: 1.6093 - accuracy: 0.3952 - val_loss: 1.5190 - val_accuracy: 0.4507\n",
            "Epoch 58/100\n",
            "501/501 [==============================] - 2s 4ms/step - loss: 1.6076 - accuracy: 0.4172 - val_loss: 1.5318 - val_accuracy: 0.4507\n",
            "Epoch 59/100\n",
            "501/501 [==============================] - 3s 5ms/step - loss: 1.5762 - accuracy: 0.4112 - val_loss: 1.4463 - val_accuracy: 0.4930\n",
            "Epoch 60/100\n",
            "501/501 [==============================] - 2s 4ms/step - loss: 1.5990 - accuracy: 0.3832 - val_loss: 1.5004 - val_accuracy: 0.3944\n",
            "Epoch 61/100\n",
            "501/501 [==============================] - 3s 5ms/step - loss: 1.5962 - accuracy: 0.4052 - val_loss: 1.5648 - val_accuracy: 0.3662\n",
            "Epoch 62/100\n",
            "501/501 [==============================] - 4s 7ms/step - loss: 1.5801 - accuracy: 0.4092 - val_loss: 1.5127 - val_accuracy: 0.4225\n",
            "Epoch 63/100\n",
            "501/501 [==============================] - 3s 5ms/step - loss: 1.5439 - accuracy: 0.4092 - val_loss: 1.4458 - val_accuracy: 0.5493\n",
            "Epoch 64/100\n",
            "501/501 [==============================] - 2s 5ms/step - loss: 1.5660 - accuracy: 0.4052 - val_loss: 1.5113 - val_accuracy: 0.4225\n",
            "Epoch 65/100\n",
            "501/501 [==============================] - 2s 5ms/step - loss: 1.5265 - accuracy: 0.4271 - val_loss: 1.5161 - val_accuracy: 0.4366\n",
            "Epoch 66/100\n",
            "501/501 [==============================] - 2s 5ms/step - loss: 1.5472 - accuracy: 0.4072 - val_loss: 1.5301 - val_accuracy: 0.4366\n",
            "Epoch 67/100\n",
            "501/501 [==============================] - 2s 4ms/step - loss: 1.5108 - accuracy: 0.4551 - val_loss: 1.5448 - val_accuracy: 0.4648\n",
            "Epoch 68/100\n",
            "501/501 [==============================] - 2s 5ms/step - loss: 1.5662 - accuracy: 0.4431 - val_loss: 1.4567 - val_accuracy: 0.5493\n",
            "Epoch 69/100\n",
            "501/501 [==============================] - 2s 5ms/step - loss: 1.5398 - accuracy: 0.4092 - val_loss: 1.5824 - val_accuracy: 0.3944\n",
            "Epoch 70/100\n",
            "501/501 [==============================] - 3s 5ms/step - loss: 1.5514 - accuracy: 0.4271 - val_loss: 1.4737 - val_accuracy: 0.4648\n",
            "Epoch 71/100\n",
            "501/501 [==============================] - 3s 6ms/step - loss: 1.5263 - accuracy: 0.3992 - val_loss: 1.4274 - val_accuracy: 0.4789\n",
            "Epoch 72/100\n",
            "501/501 [==============================] - 3s 5ms/step - loss: 1.5200 - accuracy: 0.4511 - val_loss: 1.5529 - val_accuracy: 0.4789\n",
            "Epoch 73/100\n",
            "501/501 [==============================] - 3s 6ms/step - loss: 1.4994 - accuracy: 0.4591 - val_loss: 1.4583 - val_accuracy: 0.4085\n",
            "Epoch 74/100\n",
            "501/501 [==============================] - 3s 6ms/step - loss: 1.4766 - accuracy: 0.4571 - val_loss: 1.5124 - val_accuracy: 0.4085\n",
            "Epoch 75/100\n",
            "501/501 [==============================] - 3s 6ms/step - loss: 1.4636 - accuracy: 0.4790 - val_loss: 1.4479 - val_accuracy: 0.4930\n",
            "Epoch 76/100\n",
            "501/501 [==============================] - 3s 6ms/step - loss: 1.4850 - accuracy: 0.4451 - val_loss: 1.5187 - val_accuracy: 0.3803\n",
            "Epoch 77/100\n",
            "501/501 [==============================] - 3s 7ms/step - loss: 1.4749 - accuracy: 0.4451 - val_loss: 1.4877 - val_accuracy: 0.4366\n",
            "Epoch 78/100\n",
            "501/501 [==============================] - 3s 7ms/step - loss: 1.4911 - accuracy: 0.4511 - val_loss: 1.3649 - val_accuracy: 0.5352\n",
            "Epoch 79/100\n",
            "501/501 [==============================] - 3s 6ms/step - loss: 1.4786 - accuracy: 0.4431 - val_loss: 1.4710 - val_accuracy: 0.3521\n",
            "Epoch 80/100\n",
            "501/501 [==============================] - 4s 8ms/step - loss: 1.4708 - accuracy: 0.4471 - val_loss: 1.3855 - val_accuracy: 0.4648\n",
            "Epoch 81/100\n",
            "501/501 [==============================] - 4s 8ms/step - loss: 1.4755 - accuracy: 0.4291 - val_loss: 1.4975 - val_accuracy: 0.4507\n",
            "Epoch 82/100\n",
            "501/501 [==============================] - 3s 5ms/step - loss: 1.5125 - accuracy: 0.4152 - val_loss: 1.4479 - val_accuracy: 0.4507\n",
            "Epoch 83/100\n",
            "501/501 [==============================] - 2s 5ms/step - loss: 1.4447 - accuracy: 0.4651 - val_loss: 1.5081 - val_accuracy: 0.5070\n",
            "Epoch 84/100\n",
            "501/501 [==============================] - 2s 5ms/step - loss: 1.4362 - accuracy: 0.4691 - val_loss: 1.4099 - val_accuracy: 0.3944\n",
            "Epoch 85/100\n",
            "501/501 [==============================] - 2s 4ms/step - loss: 1.4632 - accuracy: 0.4591 - val_loss: 1.4083 - val_accuracy: 0.4648\n",
            "Epoch 86/100\n",
            "501/501 [==============================] - 3s 6ms/step - loss: 1.4316 - accuracy: 0.4830 - val_loss: 1.3924 - val_accuracy: 0.4366\n",
            "Epoch 87/100\n",
            "501/501 [==============================] - 3s 5ms/step - loss: 1.4546 - accuracy: 0.4671 - val_loss: 1.4926 - val_accuracy: 0.4366\n",
            "Epoch 88/100\n",
            "501/501 [==============================] - 2s 4ms/step - loss: 1.4486 - accuracy: 0.4351 - val_loss: 1.3478 - val_accuracy: 0.4507\n",
            "Epoch 89/100\n",
            "501/501 [==============================] - 2s 5ms/step - loss: 1.4654 - accuracy: 0.4511 - val_loss: 1.3015 - val_accuracy: 0.5493\n",
            "Epoch 90/100\n",
            "501/501 [==============================] - 2s 4ms/step - loss: 1.4434 - accuracy: 0.4491 - val_loss: 1.3716 - val_accuracy: 0.5352\n",
            "Epoch 91/100\n",
            "501/501 [==============================] - 2s 5ms/step - loss: 1.3811 - accuracy: 0.4890 - val_loss: 1.3035 - val_accuracy: 0.6197\n",
            "Epoch 92/100\n",
            "501/501 [==============================] - 2s 4ms/step - loss: 1.4081 - accuracy: 0.4711 - val_loss: 1.2981 - val_accuracy: 0.5352\n",
            "Epoch 93/100\n",
            "501/501 [==============================] - 3s 5ms/step - loss: 1.4058 - accuracy: 0.4750 - val_loss: 1.4092 - val_accuracy: 0.5211\n",
            "Epoch 94/100\n",
            "501/501 [==============================] - 3s 5ms/step - loss: 1.3865 - accuracy: 0.4551 - val_loss: 1.4061 - val_accuracy: 0.4930\n",
            "Epoch 95/100\n",
            "501/501 [==============================] - 3s 6ms/step - loss: 1.3992 - accuracy: 0.4611 - val_loss: 1.2712 - val_accuracy: 0.4789\n",
            "Epoch 96/100\n",
            "501/501 [==============================] - 3s 7ms/step - loss: 1.3877 - accuracy: 0.5050 - val_loss: 1.2679 - val_accuracy: 0.4930\n",
            "Epoch 97/100\n",
            "501/501 [==============================] - 3s 6ms/step - loss: 1.3954 - accuracy: 0.4790 - val_loss: 1.2954 - val_accuracy: 0.4789\n",
            "Epoch 98/100\n",
            "501/501 [==============================] - 3s 5ms/step - loss: 1.4196 - accuracy: 0.4750 - val_loss: 1.4604 - val_accuracy: 0.4789\n",
            "Epoch 99/100\n",
            "501/501 [==============================] - 2s 5ms/step - loss: 1.4048 - accuracy: 0.4830 - val_loss: 1.2260 - val_accuracy: 0.6197\n",
            "Epoch 100/100\n",
            "501/501 [==============================] - 2s 5ms/step - loss: 1.3917 - accuracy: 0.4850 - val_loss: 1.3617 - val_accuracy: 0.5352\n"
          ]
        }
      ]
    },
    {
      "cell_type": "code",
      "metadata": {
        "colab": {
          "base_uri": "https://localhost:8080/"
        },
        "id": "yb46vkB14utk",
        "outputId": "032e3899-bc5c-41c2-ffb5-78c0b81f1266"
      },
      "source": [
        "model.predict(test_vec)[1]"
      ],
      "execution_count": 13,
      "outputs": [
        {
          "output_type": "execute_result",
          "data": {
            "text/plain": [
              "array([ 0.4165296 ,  0.86208546, -0.49146512, -0.5974111 , -0.37964135,\n",
              "        0.7238439 , -0.97015285, -4.388351  ], dtype=float32)"
            ]
          },
          "metadata": {},
          "execution_count": 13
        }
      ]
    },
    {
      "cell_type": "code",
      "execution_count": 11,
      "metadata": {},
      "outputs": [
        {
          "output_type": "stream",
          "name": "stdout",
          "text": [
            "145/145 [==============================] - 0s 942us/step - loss: 1.8513 - accuracy: 0.2483\n"
          ]
        },
        {
          "output_type": "execute_result",
          "data": {
            "text/plain": [
              "[1.8512661457061768, 0.24827586114406586]"
            ]
          },
          "metadata": {},
          "execution_count": 11
        }
      ],
      "source": [
        "model.evaluate(test_vec)"
      ]
    },
    {
      "cell_type": "code",
      "execution_count": 12,
      "metadata": {},
      "outputs": [],
      "source": [
        "model.save_weights('./checkpoint/my_checkpoint_10')"
      ]
    },
    {
      "source": [
        "# Get Script Weights"
      ],
      "cell_type": "markdown",
      "metadata": {}
    },
    {
      "cell_type": "code",
      "execution_count": 15,
      "metadata": {},
      "outputs": [],
      "source": [
        "import re\n",
        "def stringProcessing(s):\n",
        "    s = re.sub(r\"\\'\", \"\", s)\n",
        "    s = re.sub(r'\\n', ' ', s)\n",
        "    s = re.sub(r'\\t', '', s)\n",
        "    s = re.sub(r\"\\[[^[]*\\]\", '', s)\n",
        "    s = re.sub(r'[^\\w\\s]', ' ', s)\n",
        "    s = re.sub(r' +', ' ', s)\n",
        "    s = s.strip()\n",
        "    s = s.lower()\n",
        "    return s"
      ]
    },
    {
      "cell_type": "code",
      "execution_count": 20,
      "metadata": {},
      "outputs": [
        {
          "output_type": "stream",
          "name": "stdout",
          "text": [
            "bourne.txt [ 0.9299726  -0.35914177 -0.51114357  0.6295208  -0.2103733   0.35397047\n",
            " -1.3569529  -5.057942  ]\n",
            "deadpoets.txt [ 1.1206332  -0.18021777 -1.0099351  -0.4571914   0.6731483   0.242694\n",
            " -1.1417143  -5.3934536 ]\n",
            "fellowship.txt [ 0.56383485  0.48283023 -0.6405089  -0.9706365   0.13684525  0.7688268\n",
            " -0.89722323 -5.0171576 ]\n",
            "forrest.txt [ 0.97529155 -0.35290605 -0.54496884  0.5175109  -0.19030924  0.40814745\n",
            " -1.3905873  -5.1944103 ]\n",
            "goodwillhunting.txt [ 0.88102204  0.0620276  -0.5795678  -0.5689312   0.27152842  0.4087851\n",
            " -1.0932559  -5.0554924 ]\n",
            "incredibles.txt [ 0.8676267  -0.8479822  -0.10622385  0.93871295 -0.23126788  0.4184193\n",
            " -1.3599778  -4.8406067 ]\n",
            "jedi.txt [ 0.55289084  0.6170999  -0.6333877  -0.66357017  0.25265342  0.225401\n",
            " -0.9125025  -4.9512897 ]\n",
            "khan.txt [ 1.2249178e+00 -1.7303288e-01 -8.8581192e-01 -2.0883307e-03\n",
            " -2.2639140e-02  4.6894187e-01 -1.4066646e+00 -5.4672852e+00]\n",
            "shawshank.txt [ 0.9405225   0.30564404 -0.96063006 -0.5697193   0.5954126   0.04233663\n",
            " -1.1078207  -5.3673296 ]\n",
            "titanic.txt [ 1.5576198  -0.15229148 -1.2069032  -0.24095187  0.08767056  0.49161577\n",
            " -1.6315897  -6.037362  ]\n"
          ]
        }
      ],
      "source": [
        "def vectorize_movie_script_2(text):\n",
        "    text = tf.expand_dims(text, -1)\n",
        "    return vectorize_layer(text)\n",
        "\n",
        "for script_path in os.listdir(\"../scripts\"):\n",
        "    with open(f\"../scripts/{script_path}\") as f:\n",
        "        contents = f.read()\n",
        "\n",
        "        contents = stringProcessing(contents)\n",
        "\n",
        "        df = pd.DataFrame({\"lyrics\": [contents]})\n",
        "        \n",
        "\n",
        "\n",
        "        data = tf.data.Dataset.from_tensor_slices((df[\"lyrics\"]))\n",
        "        vectorize_layer.adapt(data)\n",
        "        data_vec = data.map(vectorize_movie_script_2)\n",
        "\n",
        "        print(script_path, model.predict(data_vec)[0])"
      ]
    },
    {
      "cell_type": "code",
      "execution_count": null,
      "metadata": {},
      "outputs": [],
      "source": []
    }
  ]
}